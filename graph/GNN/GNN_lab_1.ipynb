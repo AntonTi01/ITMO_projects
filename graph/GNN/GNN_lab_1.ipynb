{
  "cells": [
    {
      "cell_type": "markdown",
      "metadata": {
        "id": "Vv7pxOKZxZIn"
      },
      "source": [
        " 1. Найти или сгенерировать набор данных для бинарной классификации графов.\n",
        " 2. Реализовать функцию shortest_path_kernel(train_graphs, test_graphs), которая принимает тренировочный и тестовые наборы, а возвращает пару K_train, K_test\n",
        "  - Опишите графы с помощью вектора из количества кратчайших путей различной длины\n",
        "  - Для вычисления длин кратчайших путей можно использовать nx.shortest_path_length(G)\n",
        "  - Ядровая функция для сравнения двух графов - скалярное произведение их двух векторов\n",
        "  - K_train - матрица из ядровых функций для сравнения тренировочных графов между собой\n",
        "  - K_test - матрица из ядровых функций для сравнения тестовых графов с тренировочными\n",
        " 3. Используя реализованное ядро обучите модель SVC, подберите гиперпараметры, вычислите различные метрики качества\n",
        " 4. (+5 баллов) Также реализовать Weisfeiler-Lehman Kernel и обучить классификатор с ним, сравнить результаты."
      ]
    },
    {
      "cell_type": "markdown",
      "metadata": {
        "id": "DHhIr2ke11Aw"
      },
      "source": [
        "# Part 1. Датасет"
      ]
    },
    {
      "cell_type": "code",
      "execution_count": 17,
      "metadata": {
        "colab": {
          "base_uri": "https://localhost:8080/"
        },
        "collapsed": true,
        "id": "tRq_AyyM32kK",
        "outputId": "96bcb9f7-d545-4dc1-fdb5-33944b2a77b5"
      },
      "outputs": [],
      "source": [
        "import numpy as np\n",
        "import networkx as nx\n",
        "from sklearn.svm import SVC\n",
        "from sklearn.metrics import accuracy_score, f1_score, classification_report\n",
        "from sklearn.model_selection import GridSearchCV\n",
        "from sklearn.model_selection import train_test_split\n",
        "from ogb.graphproppred import GraphPropPredDataset\n",
        "from sklearn.model_selection import train_test_split\n",
        "from collections import defaultdict\n"
      ]
    },
    {
      "cell_type": "code",
      "execution_count": 18,
      "metadata": {
        "colab": {
          "base_uri": "https://localhost:8080/"
        },
        "id": "TFv8bKkM16k5",
        "outputId": "8a6840ba-1739-4306-8a95-fb9b3ab9d42b"
      },
      "outputs": [
        {
          "name": "stderr",
          "output_type": "stream",
          "text": [
            "/Users/forcemajor01/miniconda3/envs/study/lib/python3.9/site-packages/ogb/graphproppred/dataset.py:67: FutureWarning: You are using `torch.load` with `weights_only=False` (the current default value), which uses the default pickle module implicitly. It is possible to construct malicious pickle data which will execute arbitrary code during unpickling (See https://github.com/pytorch/pytorch/blob/main/SECURITY.md#untrusted-models for more details). In a future release, the default value for `weights_only` will be flipped to `True`. This limits the functions that could be executed during unpickling. Arbitrary objects will no longer be allowed to be loaded via this mode unless they are explicitly allowlisted by the user via `torch.serialization.add_safe_globals`. We recommend you start setting `weights_only=True` for any use case where you don't have full control of the loaded file. Please open an issue on GitHub for any issues related to this experimental feature.\n",
            "  loaded_dict = torch.load(pre_processed_file_path, 'rb')\n"
          ]
        }
      ],
      "source": [
        "dataset = GraphPropPredDataset(name='ogbg-molhiv')\n",
        "labels = dataset.labels.flatten()"
      ]
    },
    {
      "cell_type": "code",
      "execution_count": 19,
      "metadata": {
        "colab": {
          "base_uri": "https://localhost:8080/"
        },
        "id": "BFbPgx_LElhz",
        "outputId": "d4168f62-91a8-4a04-ac2f-e4993237d0ee"
      },
      "outputs": [
        {
          "data": {
            "text/plain": [
              "({'edge_index': array([[ 0,  1,  1,  2,  2,  3,  3,  4,  4,  5,  5,  6,  6,  7,  7,  8,\n",
              "           6,  9,  4, 10, 10, 11, 11, 12, 12, 13, 11, 14, 14, 15, 15, 16,\n",
              "          16, 17, 15, 18,  9,  2, 18,  4],\n",
              "         [ 1,  0,  2,  1,  3,  2,  4,  3,  5,  4,  6,  5,  7,  6,  8,  7,\n",
              "           9,  6, 10,  4, 11, 10, 12, 11, 13, 12, 14, 11, 15, 14, 16, 15,\n",
              "          17, 16, 18, 15,  2,  9,  4, 18]]),\n",
              "  'edge_feat': array([[0, 0, 0],\n",
              "         [0, 0, 0],\n",
              "         [0, 0, 0],\n",
              "         [0, 0, 0],\n",
              "         [1, 0, 0],\n",
              "         [1, 0, 0],\n",
              "         [0, 0, 0],\n",
              "         [0, 0, 0],\n",
              "         [0, 0, 0],\n",
              "         [0, 0, 0],\n",
              "         [1, 0, 0],\n",
              "         [1, 0, 0],\n",
              "         [0, 0, 0],\n",
              "         [0, 0, 0],\n",
              "         [0, 0, 0],\n",
              "         [0, 0, 0],\n",
              "         [0, 0, 0],\n",
              "         [0, 0, 0],\n",
              "         [0, 0, 0],\n",
              "         [0, 0, 0],\n",
              "         [1, 0, 0],\n",
              "         [1, 0, 0],\n",
              "         [0, 0, 0],\n",
              "         [0, 0, 0],\n",
              "         [0, 0, 0],\n",
              "         [0, 0, 0],\n",
              "         [0, 0, 0],\n",
              "         [0, 0, 0],\n",
              "         [0, 0, 0],\n",
              "         [0, 0, 0],\n",
              "         [0, 0, 0],\n",
              "         [0, 0, 0],\n",
              "         [0, 0, 0],\n",
              "         [0, 0, 0],\n",
              "         [1, 0, 0],\n",
              "         [1, 0, 0],\n",
              "         [0, 0, 0],\n",
              "         [0, 0, 0],\n",
              "         [0, 0, 0],\n",
              "         [0, 0, 0]]),\n",
              "  'node_feat': array([[ 5,  0,  4,  5,  3,  0,  2,  0,  0],\n",
              "         [ 5,  0,  4,  5,  2,  0,  2,  0,  0],\n",
              "         [ 5,  0,  3,  5,  0,  0,  1,  0,  1],\n",
              "         [ 7,  0,  2,  6,  0,  0,  1,  0,  1],\n",
              "         [28,  0,  4,  2,  0,  0,  5,  0,  1],\n",
              "         [ 7,  0,  2,  6,  0,  0,  1,  0,  1],\n",
              "         [ 5,  0,  3,  5,  0,  0,  1,  0,  1],\n",
              "         [ 5,  0,  4,  5,  2,  0,  2,  0,  0],\n",
              "         [ 5,  0,  4,  5,  3,  0,  2,  0,  0],\n",
              "         [ 5,  0,  4,  5,  2,  0,  2,  0,  1],\n",
              "         [ 7,  0,  2,  6,  0,  0,  1,  0,  1],\n",
              "         [ 5,  0,  3,  5,  0,  0,  1,  0,  1],\n",
              "         [ 5,  0,  4,  5,  2,  0,  2,  0,  0],\n",
              "         [ 5,  0,  4,  5,  3,  0,  2,  0,  0],\n",
              "         [ 5,  0,  4,  5,  2,  0,  2,  0,  1],\n",
              "         [ 5,  0,  3,  5,  0,  0,  1,  0,  1],\n",
              "         [ 5,  0,  4,  5,  2,  0,  2,  0,  0],\n",
              "         [ 5,  0,  4,  5,  3,  0,  2,  0,  0],\n",
              "         [ 7,  0,  2,  6,  0,  0,  1,  0,  1]]),\n",
              "  'num_nodes': 19},\n",
              " array([0]))"
            ]
          },
          "execution_count": 19,
          "metadata": {},
          "output_type": "execute_result"
        }
      ],
      "source": [
        "dataset[0]"
      ]
    },
    {
      "cell_type": "code",
      "execution_count": 20,
      "metadata": {
        "colab": {
          "base_uri": "https://localhost:8080/"
        },
        "id": "3weUwDXO3Kis",
        "outputId": "d809c450-c186-415a-af56-c525c30e4b8b"
      },
      "outputs": [
        {
          "name": "stdout",
          "output_type": "stream",
          "text": [
            "Количество 0: 39684\n",
            "Количество 1: 1443\n"
          ]
        }
      ],
      "source": [
        "count_0 = np.count_nonzero(labels == 0)\n",
        "count_1 = np.count_nonzero(labels == 1)\n",
        "\n",
        "print(f\"Количество 0: {count_0}\")\n",
        "print(f\"Количество 1: {count_1}\")"
      ]
    },
    {
      "cell_type": "code",
      "execution_count": 26,
      "metadata": {
        "id": "SFZwckjeRXEp"
      },
      "outputs": [],
      "source": [
        "# Функция для преобразования edge_index в объект networkx графа\n",
        "def edge_index_to_graph(edge_index):\n",
        "    edges = list(zip(edge_index[0], edge_index[1]))\n",
        "    G = nx.Graph()\n",
        "    G.add_edges_from(edges)\n",
        "    return G\n",
        "\n",
        "graphs = [edge_index_to_graph(data['edge_index']) for data, _ in dataset]"
      ]
    },
    {
      "cell_type": "markdown",
      "metadata": {
        "id": "qbZ9Mew1VxJC"
      },
      "source": [
        "**Метка 0***"
      ]
    },
    {
      "cell_type": "code",
      "execution_count": 27,
      "metadata": {
        "id": "UEgjvx3URgLt"
      },
      "outputs": [
        {
          "name": "stdout",
          "output_type": "stream",
          "text": [
            "Фичи первых 5 нод:\n",
            " [[ 5  0  4  5  3  0  2  0  0]\n",
            " [ 5  0  4  5  2  0  2  0  0]\n",
            " [ 5  0  3  5  0  0  1  0  1]\n",
            " [ 7  0  2  6  0  0  1  0  1]\n",
            " [28  0  4  2  0  0  5  0  1]]\n",
            "Фичи первых 5 ребер:\n",
            " [[0 0 0]\n",
            " [0 0 0]\n",
            " [0 0 0]\n",
            " [0 0 0]\n",
            " [1 0 0]]\n",
            "Метка графа с индексом 0: 0\n"
          ]
        },
        {
          "data": {
            "image/png": "[encoded data removed]",
            "text/plain": [
              "<Figure size 640x480 with 1 Axes>"
            ]
          },
          "metadata": {},
          "output_type": "display_data"
        }
      ],
      "source": [
        "# Посмотрим\n",
        "negative_graph_index = np.where(labels == 0)[0][0]  # Первый граф с меткой 0\n",
        "\n",
        "# Получим данные этого графа\n",
        "negative_graph_data = dataset[negative_graph_index][0]\n",
        "\n",
        "# Фичи узлов\n",
        "node_features = negative_graph_data['node_feat']\n",
        "print(\"Фичи первых 5 нод:\\n\", node_features[:5])\n",
        "\n",
        "# Фичи рёбер\n",
        "edge_features = negative_graph_data['edge_feat']\n",
        "print(\"Фичи первых 5 ребер:\\n\", edge_features[:5])\n",
        "\n",
        "edges = list(zip(negative_graph_data['edge_index'][0], negative_graph_data['edge_index'][1]))\n",
        "G = nx.Graph()\n",
        "G.add_edges_from(edges)\n",
        "\n",
        "nx.draw(G, with_labels=True)\n",
        "\n",
        "# Выводим метку графа\n",
        "graph_label = labels[negative_graph_index]\n",
        "print(f\"Метка графа с индексом {negative_graph_index}: {graph_label}\")"
      ]
    },
    {
      "cell_type": "markdown",
      "metadata": {
        "id": "6pOhbs04V08a"
      },
      "source": [
        "**Метка 1***"
      ]
    },
    {
      "cell_type": "code",
      "execution_count": 28,
      "metadata": {
        "id": "ImoqilEPRgNv"
      },
      "outputs": [
        {
          "name": "stdout",
          "output_type": "stream",
          "text": [
            "Фичи первых 5 нод:\n",
            " [[7 0 1 5 0 0 1 0 0]\n",
            " [5 0 3 5 0 0 1 0 0]\n",
            " [7 0 2 5 1 0 1 0 0]\n",
            " [5 0 4 5 2 0 2 0 0]\n",
            " [5 0 3 5 0 0 1 1 1]]\n",
            "Фичи первых 5 ребер:\n",
            " [[1 0 1]\n",
            " [1 0 1]\n",
            " [0 0 1]\n",
            " [0 0 1]\n",
            " [0 0 0]]\n",
            "Метка графа с индексом 11: 1\n"
          ]
        },
        {
          "data": {
            "image/png": "[encoded data removed]",
            "text/plain": [
              "<Figure size 640x480 with 1 Axes>"
            ]
          },
          "metadata": {},
          "output_type": "display_data"
        }
      ],
      "source": [
        "# Найдем индекс первого графа с меткой 1\n",
        "positive_graph_index = np.where(labels == 1)[0][0]  # Первый граф с меткой 1\n",
        "\n",
        "# Получим данные этого графа\n",
        "positive_graph_data = dataset[positive_graph_index][0]\n",
        "\n",
        "node_features = positive_graph_data['node_feat']\n",
        "print(\"Фичи первых 5 нод:\\n\", node_features[:5])\n",
        "\n",
        "edge_features = positive_graph_data['edge_feat']\n",
        "print(\"Фичи первых 5 ребер:\\n\", edge_features[:5])\n",
        "\n",
        "# Преобразуем edge_index в граф networkx\n",
        "edges = list(zip(positive_graph_data['edge_index'][0], positive_graph_data['edge_index'][1]))\n",
        "G = nx.Graph()\n",
        "G.add_edges_from(edges)\n",
        "\n",
        "nx.draw(G, with_labels=True)\n",
        "\n",
        "# Выводим метку графа\n",
        "graph_label = labels[positive_graph_index]\n",
        "print(f\"Метка графа с индексом {positive_graph_index}: {graph_label}\")"
      ]
    },
    {
      "cell_type": "markdown",
      "metadata": {
        "id": "BlVBkitmalCo"
      },
      "source": [
        "# Part 2. shortest_path_kernel"
      ]
    },
    {
      "cell_type": "markdown",
      "metadata": {
        "id": "Z-KRh1kYazP9"
      },
      "source": [
        "Опишите графы с помощью вектора из количества кратчайших путей различной длины\n",
        "\n",
        "Для вычисления длин кратчайших путей можно использовать nx.shortest_path_length(G)"
      ]
    },
    {
      "cell_type": "code",
      "execution_count": 29,
      "metadata": {
        "id": "OdR-7h6uRgQW"
      },
      "outputs": [],
      "source": [
        "# Функция для вычисления вектора количества кратчайших путей для графа\n",
        "def graph_to_shortest_path_vector(graph):\n",
        "    \"\"\"Преобразование графа в вектор, представляющий количество кратчайших путей различной длины\"\"\"\n",
        "    path_lengths = dict(nx.shortest_path_length(graph))\n",
        "\n",
        "    # Находим максимальную длину кратчайшего пути\n",
        "    max_length = max(max(lengths.values()) for lengths in path_lengths.values() if lengths)\n",
        "\n",
        "    # Создаем вектор, где каждый индекс соответствует длине пути, а значение - количеству путей такой длины\n",
        "    path_vector = np.zeros(max_length + 1)  # +1, чтобы учесть длину 0\n",
        "\n",
        "    for lengths in path_lengths.values():\n",
        "        for length in lengths.values():\n",
        "            path_vector[length] += 1\n",
        "\n",
        "    return path_vector"
      ]
    },
    {
      "cell_type": "markdown",
      "metadata": {
        "id": "j_uP1syba9x7"
      },
      "source": [
        "Ядровая функция для сравнения двух графов - скалярное произведение их двух векторов\n",
        "- K_train - матрица из ядровых функций для сравнения тренировочных графов между собой\n",
        "- K_test - матрица из ядровых функций для сравнения тестовых графов с тренировочными"
      ]
    },
    {
      "cell_type": "code",
      "execution_count": 30,
      "metadata": {
        "id": "0SVyxjv6aet6"
      },
      "outputs": [],
      "source": [
        "# Функция для вычисления матриц ядер K_train и K_test\n",
        "def shortest_path_kernel(train_graphs, test_graphs):\n",
        "    \"\"\"Вычисление ядровых матриц для тренировочных и тестовых графов\"\"\"\n",
        "    # Преобразуем каждый граф в вектор кратчайших путей\n",
        "    train_vectors = [graph_to_shortest_path_vector(g) for g in train_graphs]\n",
        "    test_vectors = [graph_to_shortest_path_vector(g) for g in test_graphs]\n",
        "\n",
        "    # Приводим все векторы к одинаковой длине (по максимальной длине среди всех векторов)\n",
        "    max_len = max(max(len(v) for v in train_vectors), max(len(v) for v in test_vectors))\n",
        "    train_vectors = [np.pad(v, (0, max_len - len(v))) for v in train_vectors]\n",
        "    test_vectors = [np.pad(v, (0, max_len - len(v))) for v in test_vectors]\n",
        "\n",
        "    # Вычисляем K_train и K_test через скалярное произведение векторов\n",
        "    K_train = np.dot(train_vectors, np.transpose(train_vectors))\n",
        "    K_test = np.dot(test_vectors, np.transpose(train_vectors))\n",
        "\n",
        "    return K_train, K_test"
      ]
    },
    {
      "cell_type": "code",
      "execution_count": 31,
      "metadata": {
        "id": "wpg_HRc9aewf"
      },
      "outputs": [
        {
          "name": "stdout",
          "output_type": "stream",
          "text": [
            "Размер K_train: (2240, 2240)\n",
            "Размер K_test: (560, 2240)\n"
          ]
        }
      ],
      "source": [
        "\n",
        "# Выбираем графы класса 0 и класса 1\n",
        "class_0_indices = np.where(labels == 0)[0]\n",
        "class_1_indices = np.where(labels == 1)[0]\n",
        "\n",
        "# Отбираем по 1400 объектов каждого класса\n",
        "selected_class_0 = class_0_indices[:1400]\n",
        "selected_class_1 = class_1_indices[:1400]\n",
        "\n",
        "# Отбираем графы и метки по выбранным индексам\n",
        "selected_indices = np.concatenate([selected_class_0, selected_class_1])\n",
        "selected_graphs = [graphs[i] for i in selected_indices]\n",
        "selected_labels = labels[selected_indices]\n",
        "\n",
        "\n",
        "# Разделим данные на тренировочные и тестовы\n",
        "# Разделим данные на тренировочные и тестовые\n",
        "train_graphs, test_graphs, train_labels, test_labels = train_test_split(\n",
        "    selected_graphs, selected_labels, test_size=0.2, random_state=42\n",
        ")\n",
        "\n",
        "# Вычислим матрицы ядер\n",
        "K_train, K_test = shortest_path_kernel(train_graphs, test_graphs)\n",
        "\n",
        "# Проверим размеры матриц\n",
        "print(\"Размер K_train:\", K_train.shape)\n",
        "print(\"Размер K_test:\", K_test.shape)\n"
      ]
    },
    {
      "cell_type": "code",
      "execution_count": 16,
      "metadata": {
        "id": "VSOG_ghJaezG"
      },
      "outputs": [
        {
          "name": "stdout",
          "output_type": "stream",
          "text": [
            "Fitting 3 folds for each of 3 candidates, totalling 9 fits\n",
            "[CV] END ..............................................C=0.1; total time=   2.2s\n",
            "[CV] END ..............................................C=0.1; total time=   0.8s\n",
            "[CV] END ..............................................C=0.1; total time=   1.9s\n",
            "[CV] END ................................................C=1; total time=  17.3s\n",
            "[CV] END ................................................C=1; total time=  10.0s\n",
            "[CV] END ................................................C=1; total time=  14.7s\n",
            "[CV] END ...............................................C=10; total time= 2.7min\n",
            "[CV] END ...............................................C=10; total time= 1.7min\n",
            "[CV] END ...............................................C=10; total time= 2.6min\n",
            "Train Accuracy: 0.6875\n",
            "Test Accuracy: 0.6964\n",
            "Test F1 Score: 0.6731\n",
            "\n",
            "Classification Report on Test Set:\n",
            "\n",
            "              precision    recall  f1-score   support\n",
            "\n",
            "           0       0.70      0.74      0.72       291\n",
            "           1       0.70      0.65      0.67       269\n",
            "\n",
            "    accuracy                           0.70       560\n",
            "   macro avg       0.70      0.69      0.69       560\n",
            "weighted avg       0.70      0.70      0.70       560\n",
            "\n"
          ]
        }
      ],
      "source": [
        "param_grid = {'C': [0.1, 1, 10]}  # Сетка гиперпараметров для подбора\n",
        "svc = SVC(kernel='precomputed')\n",
        "\n",
        "# Подбор гиперпараметров с помощью кросс-валидации\n",
        "grid_search = GridSearchCV(svc, param_grid, cv=3, scoring='accuracy', verbose=2)\n",
        "grid_search.fit(K_train, train_labels)\n",
        "\n",
        "# Лучшая модель\n",
        "best_model = grid_search.best_estimator_\n",
        "\n",
        "train_pred = best_model.predict(K_train)\n",
        "test_pred = best_model.predict(K_test)\n",
        "\n",
        "train_accuracy = accuracy_score(train_labels, train_pred)\n",
        "test_accuracy = accuracy_score(test_labels, test_pred)\n",
        "test_f1 = f1_score(test_labels, test_pred)\n",
        "\n",
        "\n",
        "print(f\"Train Accuracy: {train_accuracy:.4f}\")\n",
        "print(f\"Test Accuracy: {test_accuracy:.4f}\")\n",
        "print(f\"Test F1 Score: {test_f1:.4f}\")\n",
        "\n",
        "# Полный отчет о классификации\n",
        "print(\"\\nClassification Report on Test Set:\\n\")\n",
        "print(classification_report(test_labels, test_pred))"
      ]
    },
    {
      "cell_type": "markdown",
      "metadata": {},
      "source": [
        "# (+5 баллов) Также реализовать Weisfeiler-Lehman Kernel и обучить классификатор с ним, сравнить результаты."
      ]
    },
    {
      "cell_type": "code",
      "execution_count": 33,
      "metadata": {},
      "outputs": [],
      "source": [
        "def weisfeiler_lehman_step(graph, labels):\n",
        "    new_labels = {}\n",
        "    for node in graph.nodes():\n",
        "        # Получаем метки соседей\n",
        "        neighbors_labels = [labels[neighbor] for neighbor in graph.neighbors(node)]\n",
        "        # Сортируем метки соседей для инвариантности\n",
        "        neighbors_labels = sorted(neighbors_labels)\n",
        "        # Обновляем метку узла\n",
        "        new_labels[node] = hash((labels[node], tuple(neighbors_labels)))\n",
        "    return new_labels\n",
        "\n",
        "def weisfeiler_lehman_kernel(train_graphs, test_graphs, h=2):\n",
        "\n",
        "    # Начальные метки (все узлы получают одинаковую метку)\n",
        "    train_labels = [{node: 1 for node in graph.nodes()} for graph in train_graphs]\n",
        "    test_labels = [{node: 1 for node in graph.nodes()} for graph in test_graphs]\n",
        "\n",
        "    # Словари для хранения частот меток на каждой итерации\n",
        "    train_label_freq = [defaultdict(int) for _ in range(len(train_graphs))]\n",
        "    test_label_freq = [defaultdict(int) for _ in range(len(test_graphs))]\n",
        "\n",
        "    for _ in range(h):\n",
        "        # Для каждого графа обновляем метки и считаем частоты\n",
        "        for i, graph in enumerate(train_graphs):\n",
        "            train_labels[i] = weisfeiler_lehman_step(graph, train_labels[i])\n",
        "            for label in train_labels[i].values():\n",
        "                train_label_freq[i][label] += 1\n",
        "        \n",
        "        for i, graph in enumerate(test_graphs):\n",
        "            test_labels[i] = weisfeiler_lehman_step(graph, test_labels[i])\n",
        "            for label in test_labels[i].values():\n",
        "                test_label_freq[i][label] += 1\n",
        "\n",
        "    # Вычисляем K_train и K_test через скалярное произведение частот меток\n",
        "    K_train = np.zeros((len(train_graphs), len(train_graphs)))\n",
        "    K_test = np.zeros((len(test_graphs), len(train_graphs)))\n",
        "\n",
        "    for i in range(len(train_graphs)):\n",
        "        for j in range(i, len(train_graphs)):\n",
        "            common_labels = set(train_label_freq[i].keys()).intersection(train_label_freq[j].keys())\n",
        "            K_train[i, j] = K_train[j, i] = sum(min(train_label_freq[i][label], train_label_freq[j][label]) for label in common_labels)\n",
        "\n",
        "    for i in range(len(test_graphs)):\n",
        "        for j in range(len(train_graphs)):\n",
        "            common_labels = set(test_label_freq[i].keys()).intersection(train_label_freq[j].keys())\n",
        "            K_test[i, j] = sum(min(test_label_freq[i][label], train_label_freq[j][label]) for label in common_labels)\n",
        "\n",
        "    return K_train, K_test\n"
      ]
    },
    {
      "cell_type": "code",
      "execution_count": 35,
      "metadata": {},
      "outputs": [
        {
          "name": "stdout",
          "output_type": "stream",
          "text": [
            "Размер K_train для WL Kernel: (2240, 2240)\n",
            "Размер K_test для WL Kernel: (560, 2240)\n"
          ]
        }
      ],
      "source": [
        "# Вычислим матрицы ядер для Weisfeiler-Lehman Kernel\n",
        "K_train_wl, K_test_wl = weisfeiler_lehman_kernel(train_graphs, test_graphs)\n",
        "\n",
        "# Проверим размеры матриц\n",
        "print(\"Размер K_train для WL Kernel:\", K_train_wl.shape)\n",
        "print(\"Размер K_test для WL Kernel:\", K_test_wl.shape)"
      ]
    },
    {
      "cell_type": "code",
      "execution_count": 43,
      "metadata": {},
      "outputs": [
        {
          "name": "stdout",
          "output_type": "stream",
          "text": [
            "Fitting 3 folds for each of 4 candidates, totalling 12 fits\n",
            "[CV] END .............................................C=0.01; total time=   0.1s\n",
            "[CV] END .............................................C=0.01; total time=   0.0s\n",
            "[CV] END .............................................C=0.01; total time=   0.0s\n",
            "[CV] END ..............................................C=0.1; total time=   0.0s\n",
            "[CV] END ..............................................C=0.1; total time=   0.0s\n",
            "[CV] END ..............................................C=0.1; total time=   0.0s\n",
            "[CV] END ................................................C=1; total time=   0.1s\n",
            "[CV] END ................................................C=1; total time=   0.1s\n",
            "[CV] END ................................................C=1; total time=   0.1s\n",
            "[CV] END ...............................................C=10; total time=   1.0s\n",
            "[CV] END ...............................................C=10; total time=   0.9s\n",
            "[CV] END ...............................................C=10; total time=   0.5s\n",
            "Train Accuracy (WL Kernel): 0.7897\n",
            "Test Accuracy (WL Kernel): 0.7714\n",
            "Test F1 Score (WL Kernel): 0.7706\n",
            "\n",
            "Classification Report on Test Set (WL Kernel):\n",
            "\n",
            "              precision    recall  f1-score   support\n",
            "\n",
            "           0       0.80      0.75      0.77       291\n",
            "           1       0.74      0.80      0.77       269\n",
            "\n",
            "    accuracy                           0.77       560\n",
            "   macro avg       0.77      0.77      0.77       560\n",
            "weighted avg       0.77      0.77      0.77       560\n",
            "\n"
          ]
        }
      ],
      "source": [
        "# Обучение модели SVC с WL Kernel\n",
        "param_grid = {'C': [0.01, 0.1, 1, 10]}\n",
        "svc_wl = SVC(kernel='precomputed')\n",
        "\n",
        "# Подбор гиперпараметров\n",
        "grid_search_wl = GridSearchCV(svc_wl, param_grid, cv=3, scoring='accuracy', verbose=2)\n",
        "grid_search_wl.fit(K_train_wl, train_labels)\n",
        "\n",
        "# Лучшая модель\n",
        "best_model_wl = grid_search_wl.best_estimator_\n",
        "test_pred_wl = best_model_wl.predict(K_test_wl)\n",
        "test_accuracy_wl = accuracy_score(test_labels, test_pred_wl)\n",
        "test_f1_wl = f1_score(test_labels, test_pred_wl)\n",
        "\n",
        "print(f\"Test Accuracy (WL Kernel): {test_accuracy_wl:.4f}\")\n",
        "print(f\"Test F1 Score (WL Kernel): {test_f1_wl:.4f}\")\n",
        "\n",
        "print(\"\\nClassification Report on Test Set (WL Kernel):\\n\")\n",
        "print(classification_report(test_labels, test_pred_wl))\n"
      ]
    },
    {
      "cell_type": "markdown",
      "metadata": {},
      "source": [
        "# Вывод\n",
        "\n",
        "Скор Увеличился на 0.1 по F1 с 0.6731 до 0.7706 при использовании  Weisfeiler-Lehman Kernel"
      ]
    }
  ],
  "metadata": {
    "colab": {
      "provenance": []
    },
    "kernelspec": {
      "display_name": "Python 3",
      "name": "python3"
    },
    "language_info": {
      "codemirror_mode": {
        "name": "ipython",
        "version": 3
      },
      "file_extension": ".py",
      "mimetype": "text/x-python",
      "name": "python",
      "nbconvert_exporter": "python",
      "pygments_lexer": "ipython3",
      "version": "3.9.19"
    }
  },
  "nbformat": 4,
  "nbformat_minor": 0
}
