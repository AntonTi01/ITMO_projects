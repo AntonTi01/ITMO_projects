{
  "nbformat": 4,
  "nbformat_minor": 0,
  "metadata": {
    "colab": {
      "provenance": []
    },
    "kernelspec": {
      "name": "python3",
      "display_name": "Python 3"
    },
    "language_info": {
      "name": "python"
    }
  },
  "cells": [
    {
      "cell_type": "markdown",
      "source": [
        "# Задача 2. Реализация обхода в ширину из нескольких стартовых вершин (Multiple-Source BFS)"
      ],
      "metadata": {
        "id": "jnMFXcS2LJql"
      }
    },
    {
      "cell_type": "code",
      "execution_count": 1,
      "metadata": {
        "colab": {
          "base_uri": "https://localhost:8080/"
        },
        "id": "tD6yaWpoKyv-",
        "outputId": "acd4ca20-8add-4791-b7f4-5f7a57ebfd31"
      },
      "outputs": [
        {
          "output_type": "stream",
          "name": "stdout",
          "text": [
            "ERROR: ppa 'graphblas/graphblas' not found (use --login if private)\n",
            "Get:1 https://developer.download.nvidia.com/compute/cuda/repos/ubuntu2204/x86_64  InRelease [1,581 B]\n",
            "Get:2 https://cloud.r-project.org/bin/linux/ubuntu jammy-cran40/ InRelease [3,626 B]\n",
            "Get:3 https://developer.download.nvidia.com/compute/cuda/repos/ubuntu2204/x86_64  Packages [872 kB]\n",
            "Hit:4 http://archive.ubuntu.com/ubuntu jammy InRelease\n",
            "Get:5 http://security.ubuntu.com/ubuntu jammy-security InRelease [110 kB]\n",
            "Get:6 http://archive.ubuntu.com/ubuntu jammy-updates InRelease [119 kB]\n",
            "Hit:7 https://ppa.launchpadcontent.net/c2d4u.team/c2d4u4.0+/ubuntu jammy InRelease\n",
            "Hit:8 http://archive.ubuntu.com/ubuntu jammy-backports InRelease\n",
            "Hit:9 https://ppa.launchpadcontent.net/deadsnakes/ppa/ubuntu jammy InRelease\n",
            "Get:10 http://archive.ubuntu.com/ubuntu jammy-updates/main amd64 Packages [2,125 kB]\n",
            "Hit:11 https://ppa.launchpadcontent.net/graphics-drivers/ppa/ubuntu jammy InRelease\n",
            "Hit:12 https://ppa.launchpadcontent.net/ubuntugis/ppa/ubuntu jammy InRelease\n",
            "Get:13 http://archive.ubuntu.com/ubuntu jammy-updates/universe amd64 Packages [1,375 kB]\n",
            "Fetched 4,606 kB in 3s (1,562 kB/s)\n",
            "Reading package lists... Done\n",
            "Reading package lists... Done\n",
            "Building dependency tree... Done\n",
            "Reading state information... Done\n",
            "E: Unable to locate package libgraphblas1\n",
            "Collecting python-graphblas[default]\n",
            "  Downloading python_graphblas-2024.2.0-py3-none-any.whl (350 kB)\n",
            "\u001b[2K     \u001b[90m━━━━━━━━━━━━━━━━━━━━━━━━━━━━━━━━━━━━━━━━\u001b[0m \u001b[32m350.9/350.9 kB\u001b[0m \u001b[31m5.5 MB/s\u001b[0m eta \u001b[36m0:00:00\u001b[0m\n",
            "\u001b[?25hRequirement already satisfied: numpy>=1.22 in /usr/local/lib/python3.10/dist-packages (from python-graphblas[default]) (1.25.2)\n",
            "Collecting donfig>=0.6 (from python-graphblas[default])\n",
            "  Downloading donfig-0.8.1.post1-py3-none-any.whl (21 kB)\n",
            "Requirement already satisfied: pyyaml>=5.4 in /usr/local/lib/python3.10/dist-packages (from python-graphblas[default]) (6.0.1)\n",
            "Collecting suitesparse-graphblas<9,>=7.4.0.0 (from python-graphblas[default])\n",
            "  Downloading suitesparse_graphblas-8.2.1.0-cp310-cp310-manylinux_2_17_x86_64.manylinux2014_x86_64.whl (45.7 MB)\n",
            "\u001b[2K     \u001b[90m━━━━━━━━━━━━━━━━━━━━━━━━━━━━━━━━━━━━━━━━\u001b[0m \u001b[32m45.7/45.7 MB\u001b[0m \u001b[31m14.0 MB/s\u001b[0m eta \u001b[36m0:00:00\u001b[0m\n",
            "\u001b[?25hRequirement already satisfied: numba>=0.55 in /usr/local/lib/python3.10/dist-packages (from python-graphblas[default]) (0.58.1)\n",
            "Requirement already satisfied: llvmlite<0.42,>=0.41.0dev0 in /usr/local/lib/python3.10/dist-packages (from numba>=0.55->python-graphblas[default]) (0.41.1)\n",
            "Requirement already satisfied: cffi>=1.11 in /usr/local/lib/python3.10/dist-packages (from suitesparse-graphblas<9,>=7.4.0.0->python-graphblas[default]) (1.16.0)\n",
            "Requirement already satisfied: scipy>=1.9 in /usr/local/lib/python3.10/dist-packages (from python-graphblas[default]) (1.11.4)\n",
            "Requirement already satisfied: pandas>=1.2 in /usr/local/lib/python3.10/dist-packages (from python-graphblas[default]) (2.0.3)\n",
            "Requirement already satisfied: pycparser in /usr/local/lib/python3.10/dist-packages (from cffi>=1.11->suitesparse-graphblas<9,>=7.4.0.0->python-graphblas[default]) (2.22)\n",
            "Requirement already satisfied: python-dateutil>=2.8.2 in /usr/local/lib/python3.10/dist-packages (from pandas>=1.2->python-graphblas[default]) (2.8.2)\n",
            "Requirement already satisfied: pytz>=2020.1 in /usr/local/lib/python3.10/dist-packages (from pandas>=1.2->python-graphblas[default]) (2023.4)\n",
            "Requirement already satisfied: tzdata>=2022.1 in /usr/local/lib/python3.10/dist-packages (from pandas>=1.2->python-graphblas[default]) (2024.1)\n",
            "Requirement already satisfied: six>=1.5 in /usr/local/lib/python3.10/dist-packages (from python-dateutil>=2.8.2->pandas>=1.2->python-graphblas[default]) (1.16.0)\n",
            "Installing collected packages: donfig, suitesparse-graphblas, python-graphblas\n",
            "Successfully installed donfig-0.8.1.post1 python-graphblas-2024.2.0 suitesparse-graphblas-8.2.1.0\n"
          ]
        }
      ],
      "source": [
        "!sudo add-apt-repository ppa:graphblas/graphblas\n",
        "!sudo apt-get update\n",
        "!sudo apt-get install libgraphblas1\n",
        "!pip install python-graphblas[default]\n"
      ]
    },
    {
      "cell_type": "markdown",
      "source": [
        "## Задача №1\n",
        "\n",
        "Используя python-graphblas реализовать функцию обхода ориентированного графа (MSBFS-Levels) в ширину из нескольких заданных стартовых вершин.\n",
        "- Функция принимает представление графа, удобное для неё (загрузка, конвертация реализованы отдельно) и массив номеров стартовых вершин.\n",
        "- Функция возвращает массив пар: стартовая вершина, и массив (levels), где для каждой вершины указано, на каком уровне она достижима из этой стартовой. Стартовая вершина достижима на нулевом уровне, если вершина не достижима, то значение соответствующей ячейки сделайте равной -1."
      ],
      "metadata": {
        "id": "nk4cAKjMLQjc"
      }
    },
    {
      "cell_type": "code",
      "source": [
        "import numpy as np\n",
        "import pandas as pd\n",
        "import networkx as nx\n",
        "import matplotlib.pyplot as plt\n",
        "import graphblas as gb\n",
        "from graphblas import Matrix, Vector, Scalar\n",
        "from graphblas import dtypes\n",
        "from graphblas import unary, binary, monoid, semiring\n",
        "\n",
        "import time\n",
        "import sys\n",
        "import random\n",
        "from graphblas.io import mmread"
      ],
      "metadata": {
        "id": "IilvJNRLLUnw"
      },
      "execution_count": 2,
      "outputs": []
    },
    {
      "cell_type": "code",
      "source": [
        "def msbfs_levels(graph, start_vertices):\n",
        "    n = graph.nrows\n",
        "    if graph.isequal(graph.T) and graph.nvals > 0:\n",
        "        raise Exception(\"Необходим ориентированный граф\")\n",
        "\n",
        "    m = len(start_vertices)\n",
        "    result = Matrix(dtypes.INT32, m, n)  # Результирующая матрица уровней\n",
        "    f = Matrix(bool, m, n)  # Матрица фронта\n",
        "    succ = Vector(bool, m)\n",
        "\n",
        "    for i in range(m):\n",
        "        f[i, start_vertices[i]] = True  # Инициализация фронта стартовыми вершинами\n",
        "    level = 0\n",
        "\n",
        "    # Обход графа в ширину\n",
        "    while True:\n",
        "        result(mask=f.V) << level  # Установка уровня для вершин текущего фронта\n",
        "        # Вычисление следующего фронта\n",
        "        f(~result.S, replace=True) << f.mxm(graph, semiring.lor_land)\n",
        "        for i in range(m):\n",
        "            # Проверка наличия доступных вершин для каждой из стартовых вершин\n",
        "            succ[i] << f[i, :].reduce(monoid.lor, allow_empty=True)\n",
        "        if not any(succ):  # Остановка, если нет новых вершин для обработки\n",
        "            break\n",
        "        level += 1\n",
        "\n",
        "    # Формирование результата\n",
        "    results = {}\n",
        "    for i in range(m):\n",
        "        levels = []\n",
        "        for j in range(n):\n",
        "            if result[i, j].value is None:\n",
        "                levels.append(-1)  # Недостижимая вершина\n",
        "            else:\n",
        "                levels.append(result[i, j].value)\n",
        "        results[start_vertices[i]] = levels\n",
        "\n",
        "    return results\n",
        "\n",
        "\n",
        "edges = [\n",
        "    [3, 0, 3, 5, 6, 0, 6, 1, 6, 2, 4, 1],\n",
        "    [0, 1, 2, 2, 2, 3, 3, 4, 4, 5, 5, 6],\n",
        "]\n",
        "graph = Matrix.from_coo(edges[0], edges[1], [True for _ in edges[0]])\n",
        "\n",
        "start_vertices = [0, 1, 2]\n",
        "results = msbfs_levels(graph, start_vertices)\n",
        "\n",
        "for start_vertex, levels in results.items():\n",
        "    print(f\"Стартовая вершина: {start_vertex}, уровни достижимости: {levels}\")"
      ],
      "metadata": {
        "colab": {
          "base_uri": "https://localhost:8080/"
        },
        "id": "P4B7JnvcPtrv",
        "outputId": "846fed6a-c563-484d-b6c5-bb8f422342df"
      },
      "execution_count": 88,
      "outputs": [
        {
          "output_type": "stream",
          "name": "stdout",
          "text": [
            "Стартовая вершина: 0, уровни достижимости: [0, 1, 2, 1, 2, 3, 2]\n",
            "Стартовая вершина: 1, уровни достижимости: [3, 0, 2, 2, 1, 2, 1]\n",
            "Стартовая вершина: 2, уровни достижимости: [-1, -1, 0, -1, -1, 1, -1]\n"
          ]
        }
      ]
    },
    {
      "cell_type": "code",
      "source": [
        "gb.viz.draw(graph)"
      ],
      "metadata": {
        "colab": {
          "base_uri": "https://localhost:8080/",
          "height": 406
        },
        "id": "7AfvIiv7Pki8",
        "outputId": "c255d3f7-a57f-4351-c27c-8857a4faa709"
      },
      "execution_count": 89,
      "outputs": [
        {
          "output_type": "display_data",
          "data": {
            "text/plain": [
              "<Figure size 640x480 with 1 Axes>"
            ],
            "image/png": "[encoded data removed]"
          },
          "metadata": {}
        }
      ]
    },
    {
      "cell_type": "markdown",
      "source": [
        "## Задача №2\n",
        "\n",
        "Используя python-graphblas реализовать функцию обхода ориентированного графа (MSBFS-Parents) в ширину из нескольких заданных стартовых вершин.\n",
        "- Функция принимает представление графа, удобное для неё (загрузка, конвертация реализованы отдельно) и массив номеров стартовых вершин.\n",
        "- Функция возвращает массив пар: стартовая вершина, и массив (parents), где для каждой вершины графа указано, из какой вершины мы пришли в эту по кратчайшему пути из стартовой вершины. При этом для самой стартовой вершины такое значение взять равное -1, а для недостижимых вершин взять равное -2. При наличии нескольких возможных значений в массивах parents брать наименьшее."
      ],
      "metadata": {
        "id": "1fJ9XkkitPQo"
      }
    },
    {
      "cell_type": "code",
      "source": [
        "def msbfs_parents(graph, start_vertices):\n",
        "    # Проверяем, что граф ориентированный\n",
        "    n = graph.nrows\n",
        "    if graph.isequal(graph.T) and graph.nvals > 0:\n",
        "        raise Exception(\"Требуется ориентированный граф\")\n",
        "\n",
        "    m = len(start_vertices)\n",
        "\n",
        "    # Создание матрицы индексов\n",
        "    index_ramp = Matrix(dtypes.UINT64, m, n)\n",
        "\n",
        "    for i in range(m):\n",
        "        for j in range(n):\n",
        "            index_ramp[i, j] = j\n",
        "\n",
        "    # Инициализация матриц родителей и волнового фронта\n",
        "    parents = Matrix(dtypes.UINT64, m, n)\n",
        "    wavefront = Matrix(dtypes.UINT64, m, n)\n",
        "\n",
        "    for i in range(m):\n",
        "        # Заполняем изначальную матрицу строками (по номерам соответствующей вершины)\n",
        "        parents[i, start_vertices[i]] << start_vertices[i]\n",
        "        wavefront[i, start_vertices[i]] << 1\n",
        "\n",
        "    # Обход графа в ширину\n",
        "    while wavefront.nvals > 0:\n",
        "        # Преобразуем все сохраненные значения в wavefront в их индекс\n",
        "        wavefront << index_ramp.ewise_mult(wavefront, binary.first)\n",
        "\n",
        "        # Маскирование родительского списка\n",
        "        wavefront(~parents.S, replace=True) << wavefront.mxm(graph, semiring.min_first)\n",
        "\n",
        "        # Объединение новых родителей в текущий волновой фронт с существующими родителями\n",
        "        parents(binary.plus) << wavefront\n",
        "\n",
        "    # Формирование результата\n",
        "    output = {}\n",
        "    for i in range(m):\n",
        "        val = []\n",
        "        for j in range(n):\n",
        "            if parents[i, j].value is None:\n",
        "                val.append(-2)  # Не достигнутая вершина\n",
        "            elif j == start_vertices[i]:\n",
        "                val.append(-1)  # Стартовая вершина\n",
        "            else:\n",
        "                val.append(parents[i, j].value)\n",
        "        output[start_vertices[i]] = np.array(val)\n",
        "\n",
        "    return output\n",
        "\n",
        "# Пример использования\n",
        "edges = [\n",
        "    [3, 0, 3, 5, 6, 0, 6, 1, 6, 2, 4, 1],\n",
        "    [0, 1, 2, 2, 2, 3, 3, 4, 4, 5, 5, 6],\n",
        "]\n",
        "graph = Matrix.from_coo(edges[0], edges[1], [True for _ in edges[0]])\n",
        "\n",
        "start_vertices = [0, 1, 2]\n",
        "results = msbfs_parents(graph, start_vertices)\n",
        "\n",
        "for start_vertex, parents in results.items():\n",
        "    print(f\"Стартовая вершина: {start_vertex}, родители: {parents}\")\n"
      ],
      "metadata": {
        "colab": {
          "base_uri": "https://localhost:8080/"
        },
        "id": "pLadoG40P7I-",
        "outputId": "beaa5d95-3e36-48d0-985a-6b09fca6add2"
      },
      "execution_count": 90,
      "outputs": [
        {
          "output_type": "stream",
          "name": "stdout",
          "text": [
            "Стартовая вершина: 0, родители: [-1  0  3  0  1  2  1]\n",
            "Стартовая вершина: 1, родители: [ 3 -1  6  6  1  4  1]\n",
            "Стартовая вершина: 2, родители: [-2 -2 -1 -2 -2  2 -2]\n"
          ]
        }
      ]
    },
    {
      "cell_type": "code",
      "source": [
        "gb.viz.draw(graph)"
      ],
      "metadata": {
        "colab": {
          "base_uri": "https://localhost:8080/",
          "height": 406
        },
        "id": "7aiZregcx4_w",
        "outputId": "7ec79935-d46b-47a8-dbb9-cea9318a3e19"
      },
      "execution_count": 91,
      "outputs": [
        {
          "output_type": "display_data",
          "data": {
            "text/plain": [
              "<Figure size 640x480 with 1 Axes>"
            ],
            "image/png": "[encoded data removed]"
          },
          "metadata": {}
        }
      ]
    },
    {
      "cell_type": "markdown",
      "source": [
        "## Задача №3. Тесты\n",
        "\n",
        "(MSBFS-Levels) и (MSBFS-Parents)\n",
        "\n",
        "- неориентированный граф\n",
        "- граф со связанными вершинами\n",
        "- граф с вершинами \"островками\""
      ],
      "metadata": {
        "id": "VE0nIDeOhHFH"
      }
    },
    {
      "cell_type": "markdown",
      "source": [
        "### Проверка на Exception"
      ],
      "metadata": {
        "id": "bcZOLRkKhYWt"
      }
    },
    {
      "cell_type": "code",
      "source": [
        "def test_undirected_graph():\n",
        "  matrix1 = np.array([\n",
        "    [0, 1, 1, 0],\n",
        "    [1, 0, 1, 1],\n",
        "    [1, 1, 0, 1],\n",
        "    [0, 1, 1, 0]\n",
        "  ])\n",
        "  M1 = gb.Matrix.from_dense(matrix1, missing_value=0)\n",
        "\n",
        "  gb.viz.draw(M1)\n",
        "  start_vertices = [0]\n",
        "\n",
        "  try:\n",
        "    msbfs_levels(M1, start_vertices)\n",
        "    print(\"Тест не пройден (msbfs_levels)\")\n",
        "  except Exception as e:\n",
        "    print(\"Тест пройден (msbfs_levels)\")\n",
        "\n",
        "  try:\n",
        "    msbfs_parents(M1, start_vertices)\n",
        "    print(\"Тест не пройден (msbfs_parents)\")\n",
        "  except Exception as e:\n",
        "    print(\"Тест пройден (msbfs_parents)\")\n",
        "\n",
        "test_undirected_graph()"
      ],
      "metadata": {
        "colab": {
          "base_uri": "https://localhost:8080/",
          "height": 443
        },
        "id": "A1cpmeQlhIIL",
        "outputId": "ee1c2550-c777-4059-a414-497e93bfaf32"
      },
      "execution_count": 92,
      "outputs": [
        {
          "output_type": "display_data",
          "data": {
            "text/plain": [
              "<Figure size 640x480 with 1 Axes>"
            ],
            "image/png": "[encoded data removed]"
          },
          "metadata": {}
        },
        {
          "output_type": "stream",
          "name": "stdout",
          "text": [
            "Тест пройден (msbfs_levels)\n",
            "Тест пройден (msbfs_parents)\n"
          ]
        }
      ]
    },
    {
      "cell_type": "markdown",
      "source": [
        "### Проверка с графом со связанными вершинами"
      ],
      "metadata": {
        "id": "SYSDkZaYkt-Z"
      }
    },
    {
      "cell_type": "markdown",
      "source": [
        "\n",
        "- начало в вершинах 0, 1, 3\n",
        "- старт из 0: вершины 1 и 3 - 1го уровня, 2 - 2го уровня\n",
        "- старт из 1: вершина 2 - 1го уровня, 3 - 2ого уровня, 0 - недостижима\n",
        "- старт из 3: вершины 0, 1, 2 - недостижимы"
      ],
      "metadata": {
        "id": "JMu4goP3lBAG"
      }
    },
    {
      "cell_type": "code",
      "source": [
        "def test_connected_graph():\n",
        "  matrix2 = np.array([\n",
        "      [0, 1, 0, 1],\n",
        "      [0, 0, 1, 0],\n",
        "      [0, 1, 0, 1],\n",
        "      [0, 0, 0, 0]\n",
        "  ])\n",
        "  graph = gb.Matrix.from_dense(matrix2, missing_value=0)\n",
        "  gb.viz.draw(graph)\n",
        "\n",
        "  start_vertices = [0, 1, 3]\n",
        "\n",
        "  levels_result = msbfs_levels(graph, start_vertices)\n",
        "  parents_result = msbfs_parents(graph, start_vertices)\n",
        "\n",
        "  print(\"Cвязанный граф (msbfs_levels):\")\n",
        "  print(\"-------------------------------\")\n",
        "  for start_vertex, levels in levels_result.items():\n",
        "    print(f\"Стартовая вершина: {start_vertex}, уровни достижимости: {levels}\")\n",
        "  print(\"-------------------------------\")\n",
        "  print(\"Cвязанный граф (msbfs_parents):\")\n",
        "  print(\"-------------------------------\")\n",
        "  for start_vertex, parents in parents_result.items():\n",
        "    print(f\"Стартовая вершина: {start_vertex}, родители: {parents}\")\n",
        "\n",
        "\n",
        "test_connected_graph()"
      ],
      "metadata": {
        "colab": {
          "base_uri": "https://localhost:8080/",
          "height": 607
        },
        "id": "4lzHj5JQlClu",
        "outputId": "383f8074-3846-4f60-bafa-0b1941ecbb21"
      },
      "execution_count": 93,
      "outputs": [
        {
          "output_type": "display_data",
          "data": {
            "text/plain": [
              "<Figure size 640x480 with 1 Axes>"
            ],
            "image/png": "[encoded data removed]"
          },
          "metadata": {}
        },
        {
          "output_type": "stream",
          "name": "stdout",
          "text": [
            "Cвязанный граф (msbfs_levels):\n",
            "-------------------------------\n",
            "Стартовая вершина: 0, уровни достижимости: [0, 1, 2, 1]\n",
            "Стартовая вершина: 1, уровни достижимости: [-1, 0, 1, 2]\n",
            "Стартовая вершина: 3, уровни достижимости: [-1, -1, -1, 0]\n",
            "-------------------------------\n",
            "Cвязанный граф (msbfs_parents):\n",
            "-------------------------------\n",
            "Стартовая вершина: 0, родители: [-1  0  1  0]\n",
            "Стартовая вершина: 1, родители: [-2 -1  1  2]\n",
            "Стартовая вершина: 3, родители: [-2 -2 -2 -1]\n"
          ]
        }
      ]
    },
    {
      "cell_type": "markdown",
      "source": [
        "### Граф с вершинами \"островками\""
      ],
      "metadata": {
        "id": "_UOUkeIspwVh"
      }
    },
    {
      "cell_type": "code",
      "source": [
        "def test_island_graph():\n",
        "  matrix3 = np.array([\n",
        "      [0, 1, 0, 0],\n",
        "      [0, 0, 0, 0],\n",
        "      [0, 0, 0, 1],\n",
        "      [0, 0, 1, 0]\n",
        "  ])\n",
        "  M3 = gb.Matrix.from_dense(matrix3, missing_value=0)\n",
        "\n",
        "  gb.viz.draw(M3)\n",
        "  start_vertices = [3, 2, 1]\n",
        "\n",
        "  levels_result = msbfs_levels(M3, start_vertices)\n",
        "  parents_result = msbfs_parents(M3, start_vertices)\n",
        "\n",
        "  print(\"Граф с островками (msbfs_levels):\")\n",
        "  print(\"-------------------------------\")\n",
        "  for start_vertex, levels in levels_result.items():\n",
        "    print(f\"Стартовая вершина: {start_vertex}, уровни достижимости: {levels}\")\n",
        "  print(\"-------------------------------\")\n",
        "  print(\"Граф с островками (msbfs_parents):\")\n",
        "  for start_vertex, parents in parents_result.items():\n",
        "    print(f\"Стартовая вершина: {start_vertex}, родители: {parents}\")\n",
        "\n",
        "test_island_graph()\n"
      ],
      "metadata": {
        "colab": {
          "base_uri": "https://localhost:8080/",
          "height": 589
        },
        "id": "CDIH7ksrldyd",
        "outputId": "70338ea5-a271-490d-f5c8-7df886c16034"
      },
      "execution_count": 86,
      "outputs": [
        {
          "output_type": "display_data",
          "data": {
            "text/plain": [
              "<Figure size 640x480 with 1 Axes>"
            ],
            "image/png": "[encoded data removed]"
          },
          "metadata": {}
        },
        {
          "output_type": "stream",
          "name": "stdout",
          "text": [
            "Граф с островками (msbfs_levels):\n",
            "-------------------------------\n",
            "Стартовая вершина: 3, уровни достижимости: [-1, -1, 1, 0]\n",
            "Стартовая вершина: 2, уровни достижимости: [-1, -1, 0, 1]\n",
            "Стартовая вершина: 1, уровни достижимости: [-1, 0, -1, -1]\n",
            "-------------------------------\n",
            "Граф с островками (msbfs_parents):\n",
            "Стартовая вершина: 3, родители: [-2 -2  3 -1]\n",
            "Стартовая вершина: 2, родители: [-2 -2 -1  2]\n",
            "Стартовая вершина: 1, родители: [-2 -1 -2 -2]\n"
          ]
        }
      ]
    },
    {
      "cell_type": "markdown",
      "source": [
        "## Задача №4\n",
        "\n",
        "(+2 балла) Провести экспериментальное исследование полученных реализаций на некоторых больших графах в формате Matrix Market с сайта SuiteSparse Matrix Collection и на случайных сгенерированных. При этом описать зависимость времени работы всех полученных реализаций от размеров графа, его степени разреженности, количестве стартовых вершин."
      ],
      "metadata": {
        "id": "_pBgLvv8q-gz"
      }
    },
    {
      "cell_type": "code",
      "source": [
        "# Функции для тестирования\n",
        "\n",
        "def gen_vertices(num_vertices, vertex_frac):\n",
        "    #генерация стартовых вершин в зависимости от числа вершин (num_vertices) и\n",
        "    #доли (в %) стартовых вершин от общего числа (vertex_frac)\n",
        "    start_vertices = random.sample(range(num_vertices), int(vertex_frac / 100 * num_vertices))\n",
        "    return np.array(start_vertices)\n",
        "\n",
        "\n",
        "# тестирование функции \"msbfs_levels\"\n",
        "def test_Levels(A, start_vertices):\n",
        "    print('msbfs_levels:')\n",
        "    %timeit msbfs_levels(A, start_vertices)\n",
        "    print()\n",
        "\n",
        "\n",
        "# тестирование функции \"msbfs_parents\"\n",
        "def test_Parents(A, start_vertices):\n",
        "    print('msbfs_parents:')\n",
        "    %timeit msbfs_parents(A, start_vertices)\n",
        "    print()"
      ],
      "metadata": {
        "id": "POxPNr0iq1iX"
      },
      "execution_count": 11,
      "outputs": []
    },
    {
      "cell_type": "code",
      "source": [
        "graph_names = ['GD00_a', 'Harvard500', 'ibm32'] # названия графов\n",
        "vertex_fracs=[5, 40, 75, 95] # доли стартовых вершин от общего числа"
      ],
      "metadata": {
        "id": "Tdnsu20ErcS-"
      },
      "execution_count": 101,
      "outputs": []
    },
    {
      "cell_type": "code",
      "source": [
        "# Тестирование функции msbfs_levels\n",
        "# Зависимость времени работы от размера графа (и степени разреженности)\n",
        "for graph_name in graph_names:\n",
        "    graph = mmread(f'data/{graph_name}.mtx')\n",
        "    num_vertices = graph.shape[0]\n",
        "    num_edges = len(graph.to_coo()[0])\n",
        "    rerefaction_deg = num_edges / (num_vertices * (num_vertices - 1))\n",
        "    print(f'Для {graph_name}.mtx (Количество вершин: {num_vertices}, количество ребер: {num_edges}), степень разреженности: {rerefaction_deg:.4f}')\n",
        "\n",
        "    # Зависимость времени работы от числа стартовых вершин\n",
        "    for vertex_frac in vertex_fracs:\n",
        "        print(f'Количество стартовых вершин: {int(vertex_frac / 100 * graph.nrows)}')\n",
        "        test_Levels(graph, gen_vertices(graph.nrows, vertex_frac))\n",
        "    print()"
      ],
      "metadata": {
        "colab": {
          "base_uri": "https://localhost:8080/"
        },
        "id": "3235t_txtqLe",
        "outputId": "eb54badc-217b-43a6-8c55-c6fd27e93d2d"
      },
      "execution_count": 102,
      "outputs": [
        {
          "output_type": "stream",
          "name": "stdout",
          "text": [
            "Для GD00_a.mtx (Количество вершин: 352, количество ребер: 458), степень разреженности: 0.0037\n",
            "Количество стартовых вершин: 17\n",
            "msbfs_levels:\n",
            "239 ms ± 14.4 ms per loop (mean ± std. dev. of 7 runs, 1 loop each)\n",
            "\n",
            "Количество стартовых вершин: 140\n",
            "msbfs_levels:\n",
            "2.44 s ± 518 ms per loop (mean ± std. dev. of 7 runs, 1 loop each)\n",
            "\n",
            "Количество стартовых вершин: 264\n",
            "msbfs_levels:\n",
            "4.93 s ± 1.14 s per loop (mean ± std. dev. of 7 runs, 1 loop each)\n",
            "\n",
            "Количество стартовых вершин: 334\n",
            "msbfs_levels:\n",
            "5.21 s ± 584 ms per loop (mean ± std. dev. of 7 runs, 1 loop each)\n",
            "\n",
            "\n",
            "Для Harvard500.mtx (Количество вершин: 500, количество ребер: 2636), степень разреженности: 0.0106\n",
            "Количество стартовых вершин: 25\n",
            "msbfs_levels:\n",
            "927 ms ± 14 ms per loop (mean ± std. dev. of 7 runs, 1 loop each)\n",
            "\n",
            "Количество стартовых вершин: 200\n",
            "msbfs_levels:\n",
            "8.07 s ± 499 ms per loop (mean ± std. dev. of 7 runs, 1 loop each)\n",
            "\n",
            "Количество стартовых вершин: 375\n",
            "msbfs_levels:\n",
            "15.3 s ± 433 ms per loop (mean ± std. dev. of 7 runs, 1 loop each)\n",
            "\n",
            "Количество стартовых вершин: 475\n",
            "msbfs_levels:\n",
            "19.4 s ± 612 ms per loop (mean ± std. dev. of 7 runs, 1 loop each)\n",
            "\n",
            "\n",
            "Для ibm32.mtx (Количество вершин: 32, количество ребер: 126), степень разреженности: 0.1270\n",
            "Количество стартовых вершин: 1\n",
            "msbfs_levels:\n",
            "1.96 ms ± 250 µs per loop (mean ± std. dev. of 7 runs, 1000 loops each)\n",
            "\n",
            "Количество стартовых вершин: 12\n",
            "msbfs_levels:\n",
            "45.6 ms ± 828 µs per loop (mean ± std. dev. of 7 runs, 10 loops each)\n",
            "\n",
            "Количество стартовых вершин: 24\n",
            "msbfs_levels:\n",
            "107 ms ± 21.5 ms per loop (mean ± std. dev. of 7 runs, 10 loops each)\n",
            "\n",
            "Количество стартовых вершин: 30\n",
            "msbfs_levels:\n",
            "129 ms ± 26.5 ms per loop (mean ± std. dev. of 7 runs, 10 loops each)\n",
            "\n",
            "\n"
          ]
        }
      ]
    },
    {
      "cell_type": "code",
      "source": [
        "# Тестирование функции msbfs_parents\n",
        "# Зависимость времени работы от размера графа (и степени разреженности)\n",
        "for graph_name in graph_names:\n",
        "    graph = mmread(f'data/{graph_name}.mtx')\n",
        "    num_vertices = graph.shape[0]\n",
        "    num_edges = len(graph.to_coo()[0])\n",
        "    rerefaction_deg = num_edges / (num_vertices * (num_vertices - 1))\n",
        "    print(f'Для {graph_name}.mtx (Количество вершин: {num_vertices}, количество ребер: {num_edges}), степень разреженности: {rerefaction_deg:.4f}')\n",
        "\n",
        "    # Зависимость времени работы от числа стартовых вершин\n",
        "    for vertex_frac in vertex_fracs:\n",
        "        if graph_name != 'EPA':\n",
        "            print(f'Количество стартовых вершин: {int(vertex_frac / 100 * graph.nrows)}')\n",
        "            test_Parents(graph, gen_vertices(graph.nrows, vertex_frac))\n",
        "        elif vertex_frac < 50:\n",
        "            print(f'Количество стартовых вершин: {int(vertex_frac / 100 * graph.nrows)}')\n",
        "            test_Parents(graph, gen_vertices(graph.nrows, vertex_frac))\n",
        "    print()"
      ],
      "metadata": {
        "colab": {
          "base_uri": "https://localhost:8080/"
        },
        "id": "4DWdjHirtvrd",
        "outputId": "d5d9ec51-b417-42bf-91df-1a2a91f6347f"
      },
      "execution_count": 105,
      "outputs": [
        {
          "output_type": "stream",
          "name": "stdout",
          "text": [
            "Для GD00_a.mtx (Количество вершин: 352, количество ребер: 458), степень разреженности: 0.0037\n",
            "Количество стартовых вершин: 17\n",
            "msbfs_parents:\n",
            "973 ms ± 314 ms per loop (mean ± std. dev. of 7 runs, 1 loop each)\n",
            "\n",
            "Количество стартовых вершин: 140\n",
            "msbfs_parents:\n",
            "3.94 s ± 351 ms per loop (mean ± std. dev. of 7 runs, 1 loop each)\n",
            "\n",
            "Количество стартовых вершин: 264\n",
            "msbfs_parents:\n",
            "7.81 s ± 597 ms per loop (mean ± std. dev. of 7 runs, 1 loop each)\n",
            "\n",
            "Количество стартовых вершин: 334\n",
            "msbfs_parents:\n",
            "9.66 s ± 361 ms per loop (mean ± std. dev. of 7 runs, 1 loop each)\n",
            "\n",
            "\n",
            "Для Harvard500.mtx (Количество вершин: 500, количество ребер: 2636), степень разреженности: 0.0106\n",
            "Количество стартовых вершин: 25\n",
            "msbfs_parents:\n",
            "1.39 s ± 80.6 ms per loop (mean ± std. dev. of 7 runs, 1 loop each)\n",
            "\n",
            "Количество стартовых вершин: 200\n",
            "msbfs_parents:\n",
            "12.1 s ± 288 ms per loop (mean ± std. dev. of 7 runs, 1 loop each)\n",
            "\n",
            "Количество стартовых вершин: 375\n",
            "msbfs_parents:\n",
            "22.3 s ± 411 ms per loop (mean ± std. dev. of 7 runs, 1 loop each)\n",
            "\n",
            "Количество стартовых вершин: 475\n",
            "msbfs_parents:\n",
            "28.1 s ± 430 ms per loop (mean ± std. dev. of 7 runs, 1 loop each)\n",
            "\n",
            "\n",
            "Для ibm32.mtx (Количество вершин: 32, количество ребер: 126), степень разреженности: 0.1270\n",
            "Количество стартовых вершин: 1\n",
            "msbfs_parents:\n",
            "4.69 ms ± 31.1 µs per loop (mean ± std. dev. of 7 runs, 100 loops each)\n",
            "\n",
            "Количество стартовых вершин: 12\n",
            "msbfs_parents:\n",
            "64 ms ± 14.6 ms per loop (mean ± std. dev. of 7 runs, 10 loops each)\n",
            "\n",
            "Количество стартовых вершин: 24\n",
            "msbfs_parents:\n",
            "95.3 ms ± 3.32 ms per loop (mean ± std. dev. of 7 runs, 10 loops each)\n",
            "\n",
            "Количество стартовых вершин: 30\n",
            "msbfs_parents:\n",
            "135 ms ± 30.1 ms per loop (mean ± std. dev. of 7 runs, 10 loops each)\n",
            "\n",
            "\n"
          ]
        }
      ]
    },
    {
      "cell_type": "code",
      "source": [
        "# Тестирование на случайно сгенерированных графах\n",
        "# Функция генерации случайного графа\n",
        "def generate_graph(num_vertices, num_edges):\n",
        "    # Создание множества, состоящего из номеров ячеек матрицы (без диагональных элементов)\n",
        "    positions = []\n",
        "    for ind in range(num_vertices**2):\n",
        "        if ind // num_vertices != ind % num_vertices:\n",
        "            positions.append(ind)\n",
        "\n",
        "    # Отбор num_edges случайных индексов вершин (случайные значения из high_positions) для создания ребер\n",
        "    gen_indices = random.sample(positions, num_edges)\n",
        "\n",
        "    # Преобразование индексов в координаты (строка, столбец)\n",
        "    row_indices, col_indices = np.unravel_index(gen_indices, (num_vertices, num_vertices))\n",
        "\n",
        "    return Matrix.from_coo(row_indices, col_indices, [1]*len(row_indices), nrows=num_vertices, ncols=num_vertices)"
      ],
      "metadata": {
        "id": "1ImmlZ3PtzsL"
      },
      "execution_count": 106,
      "outputs": []
    },
    {
      "cell_type": "code",
      "source": [
        "# Зависимость от числа вершин (при фиксированной степени разреженности и фиксированном числе стартовых вершин)\n",
        "for i in [100, 200, 400, 800]:\n",
        "    fix_raref_deg, num_starts = 0.5, 50  # Фиксированные значения степени разреженности и числа стартовых вершин\n",
        "    generated_graph = generate_graph(i, int(fix_raref_deg * i * (i-1)))\n",
        "    num_vertices = generated_graph.shape[0]\n",
        "    num_edges = len(generated_graph.to_coo()[0])\n",
        "    rerefaction_deg = num_edges / (num_vertices * (num_vertices - 1))\n",
        "    print(f'Количество вершин: {num_vertices}, степень разреженности: {rerefaction_deg:.2f}, доля стартовых вершин: {num_starts}%')\n",
        "    test_Levels(generated_graph, gen_vertices(i, num_starts))\n",
        "    test_Parents(generated_graph, gen_vertices(i, num_starts))"
      ],
      "metadata": {
        "colab": {
          "base_uri": "https://localhost:8080/"
        },
        "id": "64j53VF2t5IM",
        "outputId": "1398e3f6-baf0-4ebc-97a4-d47e2e813ead"
      },
      "execution_count": 107,
      "outputs": [
        {
          "output_type": "stream",
          "name": "stdout",
          "text": [
            "Количество вершин: 100, степень разреженности: 0.50, доля стартовых вершин: 50%\n",
            "msbfs_levels:\n",
            "507 ms ± 30.9 ms per loop (mean ± std. dev. of 7 runs, 1 loop each)\n",
            "\n",
            "msbfs_parents:\n",
            "905 ms ± 396 ms per loop (mean ± std. dev. of 7 runs, 1 loop each)\n",
            "\n",
            "Количество вершин: 200, степень разреженности: 0.50, доля стартовых вершин: 50%\n",
            "msbfs_levels:\n",
            "2.01 s ± 394 ms per loop (mean ± std. dev. of 7 runs, 1 loop each)\n",
            "\n",
            "msbfs_parents:\n",
            "2.78 s ± 428 ms per loop (mean ± std. dev. of 7 runs, 1 loop each)\n",
            "\n",
            "Количество вершин: 400, степень разреженности: 0.50, доля стартовых вершин: 50%\n",
            "msbfs_levels:\n",
            "7.92 s ± 395 ms per loop (mean ± std. dev. of 7 runs, 1 loop each)\n",
            "\n",
            "msbfs_parents:\n",
            "11.2 s ± 425 ms per loop (mean ± std. dev. of 7 runs, 1 loop each)\n",
            "\n",
            "Количество вершин: 800, степень разреженности: 0.50, доля стартовых вершин: 50%\n",
            "msbfs_levels:\n",
            "31.5 s ± 556 ms per loop (mean ± std. dev. of 7 runs, 1 loop each)\n",
            "\n",
            "msbfs_parents:\n",
            "45 s ± 432 ms per loop (mean ± std. dev. of 7 runs, 1 loop each)\n",
            "\n"
          ]
        }
      ]
    },
    {
      "cell_type": "code",
      "source": [
        "# Зависимость от степени разреженности (при фиксированном числе вершин и фиксированном числе стартовых вершин)\n",
        "for i in [0.2, 0.4, 0.6, 0.8]:\n",
        "    num_vert, num_starts = 500, 50  # Фиксированные число вершин и число стартовых вершин\n",
        "    generated_graph = generate_graph(num_vert, int(i * num_vert * (num_vert-1)))\n",
        "    num_vertices = generated_graph.shape[0]\n",
        "    num_edges = len(generated_graph.to_coo()[0])\n",
        "    rerefaction_deg = num_edges / (num_vertices * (num_vertices - 1))\n",
        "    print(f'Количество вершин: {num_vertices}, степень разреженности: {rerefaction_deg:.2f}, доля стартовых вершин: {num_starts}%')\n",
        "    test_Levels(generated_graph, gen_vertices(num_vert, num_starts))\n",
        "    test_Parents(generated_graph, gen_vertices(num_vert, num_starts))\n"
      ],
      "metadata": {
        "colab": {
          "base_uri": "https://localhost:8080/"
        },
        "id": "hnWRewe9t8d-",
        "outputId": "13ceb48a-8534-4cce-fd30-086fe8acd849"
      },
      "execution_count": 108,
      "outputs": [
        {
          "output_type": "stream",
          "name": "stdout",
          "text": [
            "Количество вершин: 500, степень разреженности: 0.20, доля стартовых вершин: 50%\n",
            "msbfs_levels:\n",
            "12.3 s ± 77.3 ms per loop (mean ± std. dev. of 7 runs, 1 loop each)\n",
            "\n",
            "msbfs_parents:\n",
            "17 s ± 454 ms per loop (mean ± std. dev. of 7 runs, 1 loop each)\n",
            "\n",
            "Количество вершин: 500, степень разреженности: 0.40, доля стартовых вершин: 50%\n",
            "msbfs_levels:\n",
            "12.2 s ± 115 ms per loop (mean ± std. dev. of 7 runs, 1 loop each)\n",
            "\n",
            "msbfs_parents:\n",
            "17.3 s ± 377 ms per loop (mean ± std. dev. of 7 runs, 1 loop each)\n",
            "\n",
            "Количество вершин: 500, степень разреженности: 0.60, доля стартовых вершин: 50%\n",
            "msbfs_levels:\n",
            "12.1 s ± 156 ms per loop (mean ± std. dev. of 7 runs, 1 loop each)\n",
            "\n",
            "msbfs_parents:\n",
            "17.5 s ± 432 ms per loop (mean ± std. dev. of 7 runs, 1 loop each)\n",
            "\n",
            "Количество вершин: 500, степень разреженности: 0.80, доля стартовых вершин: 50%\n",
            "msbfs_levels:\n",
            "12.3 s ± 101 ms per loop (mean ± std. dev. of 7 runs, 1 loop each)\n",
            "\n",
            "msbfs_parents:\n",
            "17.4 s ± 632 ms per loop (mean ± std. dev. of 7 runs, 1 loop each)\n",
            "\n"
          ]
        }
      ]
    },
    {
      "cell_type": "code",
      "source": [
        "\n",
        "# Зависимость от числа стартовых вершин (при фиксированном числе вершин и фиксированной степени разреженности)\n",
        "for i in [20, 40, 60, 80]:\n",
        "    num_vert, fix_raref_deg = 500, 0.5  # Фиксированные число вершин и значение степени разреженности\n",
        "    generated_graph = generate_graph(num_vert, int(fix_raref_deg * num_vert * (num_vert-1)))\n",
        "    num_vertices = generated_graph.shape[0]\n",
        "    num_edges = len(generated_graph.to_coo()[0])\n",
        "    rerefaction_deg = num_edges / (num_vertices * (num_vertices - 1))\n",
        "    print(f'Количество вершин: {num_vertices}, степень разреженности: {rerefaction_deg:.2f}, доля стартовых вершин: {i}%')\n",
        "    test_Levels(generated_graph, gen_vertices(num_vert, i))\n",
        "    test_Parents(generated_graph, gen_vertices(num_vert, i))"
      ],
      "metadata": {
        "colab": {
          "base_uri": "https://localhost:8080/"
        },
        "id": "hp_oGaGTt9-d",
        "outputId": "94de2b7c-926d-4399-bf5f-b6ab92ba89cc"
      },
      "execution_count": 109,
      "outputs": [
        {
          "output_type": "stream",
          "name": "stdout",
          "text": [
            "Количество вершин: 500, степень разреженности: 0.50, доля стартовых вершин: 20%\n",
            "msbfs_levels:\n",
            "4.91 s ± 446 ms per loop (mean ± std. dev. of 7 runs, 1 loop each)\n",
            "\n",
            "msbfs_parents:\n",
            "7.08 s ± 501 ms per loop (mean ± std. dev. of 7 runs, 1 loop each)\n",
            "\n",
            "Количество вершин: 500, степень разреженности: 0.50, доля стартовых вершин: 40%\n",
            "msbfs_levels:\n",
            "9.7 s ± 556 ms per loop (mean ± std. dev. of 7 runs, 1 loop each)\n",
            "\n",
            "msbfs_parents:\n",
            "13.9 s ± 165 ms per loop (mean ± std. dev. of 7 runs, 1 loop each)\n",
            "\n",
            "Количество вершин: 500, степень разреженности: 0.50, доля стартовых вершин: 60%\n",
            "msbfs_levels:\n",
            "14.6 s ± 428 ms per loop (mean ± std. dev. of 7 runs, 1 loop each)\n",
            "\n",
            "msbfs_parents:\n",
            "21.1 s ± 575 ms per loop (mean ± std. dev. of 7 runs, 1 loop each)\n",
            "\n",
            "Количество вершин: 500, степень разреженности: 0.50, доля стартовых вершин: 80%\n",
            "msbfs_levels:\n",
            "19.6 s ± 629 ms per loop (mean ± std. dev. of 7 runs, 1 loop each)\n",
            "\n",
            "msbfs_parents:\n",
            "27.9 s ± 388 ms per loop (mean ± std. dev. of 7 runs, 1 loop each)\n",
            "\n"
          ]
        }
      ]
    },
    {
      "cell_type": "markdown",
      "source": [
        "## Выводы по тестам"
      ],
      "metadata": {
        "id": "PLftJ-kgJIR9"
      }
    },
    {
      "cell_type": "markdown",
      "source": [
        "Когда увеличивается количество вершин (при фиксированной степени разреженности 0.5 и доле стартовых вершин 50%), время выполнения обоих алгоритмов также возрастает. Это связано с увеличением количества столбцов в матрицах, что усложняет операцию матричного умножения. Алгоритм msbfs_levels демонстрирует приблизительно линейную зависимость времени от количества вершин, в то время как второй алгоритм показывает более значительное увеличение времени, что указывает на степенную зависимость.\n",
        "\n",
        "С ростом количества стартовых вершин (при фиксированном числе вершин, равном 500, и степени разреженности 50%) также наблюдается увеличение времени выполнения алгоритмов. В обоих случаях эта зависимость близка к линейной. Это происходит потому, что увеличение числа стартовых вершин напрямую влияет на размерность строк фронта, что усложняет операцию матричного умножения.\n",
        "\n",
        "При увеличении степени разреженности (уплотнении графа) явной зависимости времени выполнения не наблюдается. Более того, тесты показали, что алгоритмы работают быстрее на графах со средней степенью разреженности. Это можно объяснить тем, что алгоритмы оптимизированы для реальных графов, которые редко бывают почти полными или крайне разреженными.\n",
        "\n",
        "В сравнении друг с другом, алгоритм msbfs_parents начинает работать медленнее, чем msbfs_levels, по мере увеличения размеров графа."
      ],
      "metadata": {
        "id": "UQmoNGgcJOYg"
      }
    },
    {
      "cell_type": "markdown",
      "source": [
        "## Задача №5\n",
        "\n",
        " (+3 балла) Добавить реализации описанных алгоритмов с использованием других полуколец (any.pair для levels и any.first для parents). Добавить тесты для проверки корректности. Провести экспериментальное исследование со сравнением этих реализаций с первоначальными на различных графах."
      ],
      "metadata": {
        "id": "zS9qKgbmJovC"
      }
    },
    {
      "cell_type": "markdown",
      "source": [
        "Реализация msbfs_levels с использованием полукольца any.pair"
      ],
      "metadata": {
        "id": "Fon9eRC0LQaE"
      }
    },
    {
      "cell_type": "code",
      "source": [
        "def msbfs_levels_anypair(graph, start_vertices):\n",
        "    n = graph.nrows\n",
        "    if graph.isequal(graph.T) and graph.nvals > 0:\n",
        "        raise Exception(\"Необходим ориентированный граф\")\n",
        "\n",
        "    m = len(start_vertices)\n",
        "    result = Matrix(dtypes.INT32, m, n)  # Результирующая матрица уровней\n",
        "    f = Matrix(bool, m, n)  # Матрица фронта\n",
        "    succ = Vector(bool, m)\n",
        "\n",
        "    for i in range(m):\n",
        "        f[i, start_vertices[i]] = True  # Инициализация фронта стартовыми вершинами\n",
        "    level = 0\n",
        "\n",
        "    # Обход графа в ширину\n",
        "    while True:\n",
        "        result(mask=f.V) << level  # Установка уровня для вершин текущего фронта\n",
        "        # Вычисление следующего фронта\n",
        "        f(~result.S, replace=True) << f.mxm(graph, semiring.any_pair)\n",
        "        for i in range(m):\n",
        "            # Проверка наличия доступных вершин для каждой из стартовых вершин\n",
        "            succ[i] << f[i, :].reduce(monoid.lor, allow_empty=True)\n",
        "        if not any(succ):  # Остановка, если нет новых вершин для обработки\n",
        "            break\n",
        "        level += 1\n",
        "\n",
        "    # Формирование результата\n",
        "    results = {}\n",
        "    for i in range(m):\n",
        "        levels = []\n",
        "        for j in range(n):\n",
        "            if result[i, j].value is None:\n",
        "                levels.append(-1)  # Недостижимая вершина\n",
        "            else:\n",
        "                levels.append(result[i, j].value)\n",
        "        results[start_vertices[i]] = levels\n",
        "\n",
        "    return results\n"
      ],
      "metadata": {
        "id": "ZoUz5jniJNwl"
      },
      "execution_count": 3,
      "outputs": []
    },
    {
      "cell_type": "markdown",
      "source": [
        "Реализация msbfs_parents с использованием полукольца any.first"
      ],
      "metadata": {
        "id": "MsXZ1w9zLX3U"
      }
    },
    {
      "cell_type": "code",
      "source": [
        "def msbfs_parents_anyfirst(graph, start_vertices):\n",
        "    # Проверяем, что граф ориентированный\n",
        "    n = graph.nrows\n",
        "    if graph.isequal(graph.T) and graph.nvals > 0:\n",
        "        raise Exception(\"Требуется ориентированный граф\")\n",
        "\n",
        "    m = len(start_vertices)\n",
        "\n",
        "    # Создание матрицы индексов\n",
        "    index_ramp = Matrix(dtypes.UINT64, m, n)\n",
        "\n",
        "    for i in range(m):\n",
        "        for j in range(n):\n",
        "            index_ramp[i, j] = j\n",
        "\n",
        "    # Инициализация матриц родителей и волнового фронта\n",
        "    parents = Matrix(dtypes.UINT64, m, n)\n",
        "    wavefront = Matrix(dtypes.UINT64, m, n)\n",
        "\n",
        "    for i in range(m):\n",
        "        # Заполняем изначальную матрицу строками (по номерам соответствующей вершины)\n",
        "        parents[i, start_vertices[i]] << start_vertices[i]\n",
        "        wavefront[i, start_vertices[i]] << 1\n",
        "\n",
        "    # Обход графа в ширину\n",
        "    while wavefront.nvals > 0:\n",
        "        # Преобразуем все сохраненные значения в wavefront в их индекс\n",
        "        wavefront << index_ramp.ewise_mult(wavefront, binary.first)\n",
        "\n",
        "        # Маскирование родительского списка\n",
        "        wavefront(~parents.S, replace=True) << wavefront.mxm(graph, semiring.any_first)\n",
        "\n",
        "        # Объединение новых родителей в текущий волновой фронт с существующими родителями\n",
        "        parents(binary.plus) << wavefront\n",
        "\n",
        "    # Формирование результата\n",
        "    output = {}\n",
        "    for i in range(m):\n",
        "        val = []\n",
        "        for j in range(n):\n",
        "            if parents[i, j].value is None:\n",
        "                val.append(-2)  # Не достигнутая вершина\n",
        "            elif j == start_vertices[i]:\n",
        "                val.append(-1)  # Стартовая вершина\n",
        "            else:\n",
        "                val.append(parents[i, j].value)\n",
        "        output[start_vertices[i]] = np.array(val)\n",
        "\n",
        "    return output\n"
      ],
      "metadata": {
        "id": "cpNCC9-TLYrl"
      },
      "execution_count": 4,
      "outputs": []
    },
    {
      "cell_type": "markdown",
      "source": [
        "**Функции для тестирования**\n"
      ],
      "metadata": {
        "id": "DyTPHZvgLalI"
      }
    },
    {
      "cell_type": "code",
      "source": [
        "def test_Levels_anypair(A, start_vertex):\n",
        "    print('msbfs_levels_anypair:')\n",
        "    %timeit msbfs_levels_anypair(A, start_vertex)\n",
        "    print()\n",
        "\n",
        "def test_Parents_anyfirst(A, start_vertex):\n",
        "    print('msbfs_parents_anyfirst:')\n",
        "    %timeit msbfs_parents_anyfirst(A, start_vertex)\n",
        "    print()\n",
        "\n"
      ],
      "metadata": {
        "id": "62UZYZCvLcWT"
      },
      "execution_count": 5,
      "outputs": []
    },
    {
      "cell_type": "code",
      "source": [
        "graph_names = ['GD00_a', 'Harvard500', 'ibm32']  # названия графов\n",
        "vertex_fracs = [5, 40, 75, 95]  # доли стартовых вершин от общего числа\n"
      ],
      "metadata": {
        "id": "2QGFjY_mLeq2"
      },
      "execution_count": 9,
      "outputs": []
    },
    {
      "cell_type": "code",
      "source": [
        "# Тестирование функции msbfs_levels_anypair\n",
        "# Зависимость времени работы от размера графа (и степени разреженности)\n",
        "for graph_name in graph_names:\n",
        "    graph = mmread(f'data/{graph_name}.mtx')\n",
        "    num_vertices = graph.shape[0]\n",
        "    num_edges = len(graph.to_coo()[0])\n",
        "    rerefaction_deg = num_edges / (num_vertices * (num_vertices - 1))\n",
        "    print(f'Для {graph_name}.mtx (Количество вершин: {num_vertices}, количество ребер: {num_edges}), степень разреженности: {rerefaction_deg:.4f}')\n",
        "\n",
        "    # Зависимость времени работы от числа стартовых вершин\n",
        "    for vertex_frac in vertex_fracs:\n",
        "        print(f'Количество стартовых вершин: {int(vertex_frac / 100 * graph.nrows)}')\n",
        "        test_Levels_anypair(graph, gen_vertices(graph.nrows, vertex_frac))\n",
        "    print()\n"
      ],
      "metadata": {
        "colab": {
          "base_uri": "https://localhost:8080/"
        },
        "id": "sEQcavehLkDO",
        "outputId": "4b8fb40c-2f03-4106-9662-62a276f7f593"
      },
      "execution_count": 14,
      "outputs": [
        {
          "output_type": "stream",
          "name": "stdout",
          "text": [
            "Для GD00_a.mtx (Количество вершин: 352, количество ребер: 458), степень разреженности: 0.0037\n",
            "Количество стартовых вершин: 17\n",
            "msbfs_levels_anypair:\n",
            "398 ms ± 152 ms per loop (mean ± std. dev. of 7 runs, 1 loop each)\n",
            "\n",
            "Количество стартовых вершин: 140\n",
            "msbfs_levels_anypair:\n",
            "2.74 s ± 538 ms per loop (mean ± std. dev. of 7 runs, 1 loop each)\n",
            "\n",
            "Количество стартовых вершин: 264\n",
            "msbfs_levels_anypair:\n",
            "4.98 s ± 981 ms per loop (mean ± std. dev. of 7 runs, 1 loop each)\n",
            "\n",
            "Количество стартовых вершин: 334\n",
            "msbfs_levels_anypair:\n",
            "6.08 s ± 2.1 s per loop (mean ± std. dev. of 7 runs, 1 loop each)\n",
            "\n",
            "\n",
            "Для Harvard500.mtx (Количество вершин: 500, количество ребер: 2636), степень разреженности: 0.0106\n",
            "Количество стартовых вершин: 25\n",
            "msbfs_levels_anypair:\n",
            "1.06 s ± 251 ms per loop (mean ± std. dev. of 7 runs, 1 loop each)\n",
            "\n",
            "Количество стартовых вершин: 200\n",
            "msbfs_levels_anypair:\n",
            "7.94 s ± 551 ms per loop (mean ± std. dev. of 7 runs, 1 loop each)\n",
            "\n",
            "Количество стартовых вершин: 375\n",
            "msbfs_levels_anypair:\n",
            "16.1 s ± 2.12 s per loop (mean ± std. dev. of 7 runs, 1 loop each)\n",
            "\n",
            "Количество стартовых вершин: 475\n",
            "msbfs_levels_anypair:\n",
            "18.7 s ± 601 ms per loop (mean ± std. dev. of 7 runs, 1 loop each)\n",
            "\n",
            "\n",
            "Для ibm32.mtx (Количество вершин: 32, количество ребер: 126), степень разреженности: 0.1270\n",
            "Количество стартовых вершин: 1\n",
            "msbfs_levels_anypair:\n",
            "1.92 ms ± 375 µs per loop (mean ± std. dev. of 7 runs, 1000 loops each)\n",
            "\n",
            "Количество стартовых вершин: 12\n",
            "msbfs_levels_anypair:\n",
            "51 ms ± 9.6 ms per loop (mean ± std. dev. of 7 runs, 10 loops each)\n",
            "\n",
            "Количество стартовых вершин: 24\n",
            "msbfs_levels_anypair:\n",
            "89.8 ms ± 3.69 ms per loop (mean ± std. dev. of 7 runs, 10 loops each)\n",
            "\n",
            "Количество стартовых вершин: 30\n",
            "msbfs_levels_anypair:\n",
            "127 ms ± 25.5 ms per loop (mean ± std. dev. of 7 runs, 10 loops each)\n",
            "\n",
            "\n"
          ]
        }
      ]
    },
    {
      "cell_type": "code",
      "source": [
        "# Тестирование функции msbfs_parents_anyfirst\n",
        "# Зависимость времени работы от размера графа (и степени разреженности)\n",
        "for graph_name in graph_names:\n",
        "    graph = mmread(f'data/{graph_name}.mtx')\n",
        "    num_vertices = graph.shape[0]\n",
        "    num_edges = len(graph.to_coo()[0])\n",
        "    rerefaction_deg = num_edges / (num_vertices * (num_vertices - 1))\n",
        "    print(f'Для {graph_name}.mtx (Количество вершин: {num_vertices}, количество ребер: {num_edges}), степень разреженности: {rerefaction_deg:.4f}')\n",
        "\n",
        "    # Зависимость времени работы от числа стартовых вершин\n",
        "    for vertex_frac in vertex_fracs:\n",
        "        print(f'Количество стартовых вершин: {int(vertex_frac / 100 * graph.nrows)}')\n",
        "        test_Parents_anyfirst(graph, gen_vertices(graph.nrows, vertex_frac))\n",
        "    print()"
      ],
      "metadata": {
        "colab": {
          "base_uri": "https://localhost:8080/"
        },
        "id": "e3li5ipiLm1J",
        "outputId": "6c3ff85c-3815-43eb-d2ed-71a4ab257f56"
      },
      "execution_count": 15,
      "outputs": [
        {
          "output_type": "stream",
          "name": "stdout",
          "text": [
            "Для GD00_a.mtx (Количество вершин: 352, количество ребер: 458), степень разреженности: 0.0037\n",
            "Количество стартовых вершин: 17\n",
            "msbfs_parents_anyfirst:\n",
            "423 ms ± 37.4 ms per loop (mean ± std. dev. of 7 runs, 1 loop each)\n",
            "\n",
            "Количество стартовых вершин: 140\n",
            "msbfs_parents_anyfirst:\n",
            "3.92 s ± 453 ms per loop (mean ± std. dev. of 7 runs, 1 loop each)\n",
            "\n",
            "Количество стартовых вершин: 264\n",
            "msbfs_parents_anyfirst:\n",
            "7.25 s ± 457 ms per loop (mean ± std. dev. of 7 runs, 1 loop each)\n",
            "\n",
            "Количество стартовых вершин: 334\n",
            "msbfs_parents_anyfirst:\n",
            "8.99 s ± 391 ms per loop (mean ± std. dev. of 7 runs, 1 loop each)\n",
            "\n",
            "\n",
            "Для Harvard500.mtx (Количество вершин: 500, количество ребер: 2636), степень разреженности: 0.0106\n",
            "Количество стартовых вершин: 25\n",
            "msbfs_parents_anyfirst:\n",
            "1.95 s ± 795 ms per loop (mean ± std. dev. of 7 runs, 1 loop each)\n",
            "\n",
            "Количество стартовых вершин: 200\n",
            "msbfs_parents_anyfirst:\n",
            "11.4 s ± 361 ms per loop (mean ± std. dev. of 7 runs, 1 loop each)\n",
            "\n",
            "Количество стартовых вершин: 375\n",
            "msbfs_parents_anyfirst:\n",
            "21.3 s ± 170 ms per loop (mean ± std. dev. of 7 runs, 1 loop each)\n",
            "\n",
            "Количество стартовых вершин: 475\n",
            "msbfs_parents_anyfirst:\n",
            "27 s ± 212 ms per loop (mean ± std. dev. of 7 runs, 1 loop each)\n",
            "\n",
            "\n",
            "Для ibm32.mtx (Количество вершин: 32, количество ребер: 126), степень разреженности: 0.1270\n",
            "Количество стартовых вершин: 1\n",
            "msbfs_parents_anyfirst:\n",
            "4.73 ms ± 88 µs per loop (mean ± std. dev. of 7 runs, 100 loops each)\n",
            "\n",
            "Количество стартовых вершин: 12\n",
            "msbfs_parents_anyfirst:\n",
            "46 ms ± 706 µs per loop (mean ± std. dev. of 7 runs, 10 loops each)\n",
            "\n",
            "Количество стартовых вершин: 24\n",
            "msbfs_parents_anyfirst:\n",
            "108 ms ± 22.1 ms per loop (mean ± std. dev. of 7 runs, 10 loops each)\n",
            "\n",
            "Количество стартовых вершин: 30\n",
            "msbfs_parents_anyfirst:\n",
            "131 ms ± 25.1 ms per loop (mean ± std. dev. of 7 runs, 10 loops each)\n",
            "\n",
            "\n"
          ]
        }
      ]
    },
    {
      "cell_type": "code",
      "source": [
        "# Тестирование на случайно сгенерированных графах\n",
        "def generate_graph(num_vertices, num_edges):\n",
        "    # Создание множества, состоящего из номеров ячеек матрицы (без диагональных элементов)\n",
        "    positions = []\n",
        "    for ind in range(num_vertices**2):\n",
        "        if ind // num_vertices != ind % num_vertices:\n",
        "            positions.append(ind)\n",
        "\n",
        "    # Отбор num_edges случайных индексов вершин (случайные значения из high_positions) для создания ребер\n",
        "    gen_indices = random.sample(positions, num_edges)\n",
        "\n",
        "    # Преобразование индексов в координаты (строка, столбец)\n",
        "    row_indices, col_indices = np.unravel_index(gen_indices, (num_vertices, num_vertices))\n",
        "\n",
        "    return Matrix.from_coo(row_indices, col_indices, [1]*len(row_indices), nrows=num_vertices, ncols=num_vertices)\n"
      ],
      "metadata": {
        "id": "T3zPW43bNssV"
      },
      "execution_count": 16,
      "outputs": []
    },
    {
      "cell_type": "code",
      "source": [
        "# Зависимость от числа вершин (при фиксированной степени разреженности и фиксированном числе стартовых вершин)\n",
        "for i in [100, 200, 400, 800]:\n",
        "    fix_raref_deg, num_starts = 0.5, 50  # фиксированные значения степени разреженности и числа стартовых вершин\n",
        "    generated_graph = generate_graph(i, int(fix_raref_deg * i * (i-1)))\n",
        "    num_vertices = generated_graph.shape[0]\n",
        "    num_edges = len(generated_graph.to_coo()[0])\n",
        "    rerefaction_deg = num_edges / (num_vertices * (num_vertices - 1))\n",
        "    print(f'Количество вершин: {num_vertices}, степень разреженности: {rerefaction_deg:.2f}, доля стартовых вершин: {num_starts}%')\n",
        "    test_Levels_anypair(generated_graph, gen_vertices(i, num_starts))\n",
        "    test_Parents_anyfirst(generated_graph, gen_vertices(i, num_starts))\n"
      ],
      "metadata": {
        "colab": {
          "base_uri": "https://localhost:8080/"
        },
        "id": "Od6FSHgNN-Wr",
        "outputId": "a9d04c4d-6fb0-47c1-9298-7fca81fe7ba3"
      },
      "execution_count": 17,
      "outputs": [
        {
          "output_type": "stream",
          "name": "stdout",
          "text": [
            "Количество вершин: 100, степень разреженности: 0.50, доля стартовых вершин: 50%\n",
            "msbfs_levels_anypair:\n",
            "455 ms ± 14.2 ms per loop (mean ± std. dev. of 7 runs, 1 loop each)\n",
            "\n",
            "msbfs_parents_anyfirst:\n",
            "614 ms ± 50.8 ms per loop (mean ± std. dev. of 7 runs, 1 loop each)\n",
            "\n",
            "Количество вершин: 200, степень разреженности: 0.50, доля стартовых вершин: 50%\n",
            "msbfs_levels_anypair:\n",
            "1.91 s ± 287 ms per loop (mean ± std. dev. of 7 runs, 1 loop each)\n",
            "\n",
            "msbfs_parents_anyfirst:\n",
            "2.58 s ± 334 ms per loop (mean ± std. dev. of 7 runs, 1 loop each)\n",
            "\n",
            "Количество вершин: 400, степень разреженности: 0.50, доля стартовых вершин: 50%\n",
            "msbfs_levels_anypair:\n",
            "7.56 s ± 557 ms per loop (mean ± std. dev. of 7 runs, 1 loop each)\n",
            "\n",
            "msbfs_parents_anyfirst:\n",
            "10.8 s ± 311 ms per loop (mean ± std. dev. of 7 runs, 1 loop each)\n",
            "\n",
            "Количество вершин: 800, степень разреженности: 0.50, доля стартовых вершин: 50%\n",
            "msbfs_levels_anypair:\n",
            "30.1 s ± 496 ms per loop (mean ± std. dev. of 7 runs, 1 loop each)\n",
            "\n",
            "msbfs_parents_anyfirst:\n",
            "43.5 s ± 367 ms per loop (mean ± std. dev. of 7 runs, 1 loop each)\n",
            "\n"
          ]
        }
      ]
    },
    {
      "cell_type": "code",
      "source": [
        "# Зависимость от степени разреженности (при фиксированном числе вершин и фиксированном числе стартовых вершин)\n",
        "for i in [0.2, 0.4, 0.6, 0.8]:\n",
        "    num_vert, num_starts = 500, 50  # фиксированные число вершин и число стартовых вершин\n",
        "    generated_graph = generate_graph(num_vert, int(i * num_vert * (num_vert-1)))\n",
        "    num_vertices = generated_graph.shape[0]\n",
        "    num_edges = len(generated_graph.to_coo()[0])\n",
        "    rerefaction_deg = num_edges / (num_vertices * (num_vertices - 1))\n",
        "    print(f'Количество вершин: {num_vertices}, степень разреженности: {rerefaction_deg:.2f}, доля стартовых вершин: {num_starts}%')\n",
        "    test_Levels_anypair(generated_graph, gen_vertices(num_vert, num_starts))\n",
        "    test_Parents_anyfirst(generated_graph, gen_vertices(num_vert, num_starts))\n"
      ],
      "metadata": {
        "colab": {
          "base_uri": "https://localhost:8080/"
        },
        "id": "W_Eof8pmOA4B",
        "outputId": "89bf27be-e231-4316-995b-4036aeec3f51"
      },
      "execution_count": 18,
      "outputs": [
        {
          "output_type": "stream",
          "name": "stdout",
          "text": [
            "Количество вершин: 500, степень разреженности: 0.20, доля стартовых вершин: 50%\n",
            "msbfs_levels_anypair:\n",
            "11.6 s ± 238 ms per loop (mean ± std. dev. of 7 runs, 1 loop each)\n",
            "\n",
            "msbfs_parents_anyfirst:\n",
            "16.4 s ± 360 ms per loop (mean ± std. dev. of 7 runs, 1 loop each)\n",
            "\n",
            "Количество вершин: 500, степень разреженности: 0.40, доля стартовых вершин: 50%\n",
            "msbfs_levels_anypair:\n",
            "11.8 s ± 17.8 ms per loop (mean ± std. dev. of 7 runs, 1 loop each)\n",
            "\n",
            "msbfs_parents_anyfirst:\n",
            "16.7 s ± 340 ms per loop (mean ± std. dev. of 7 runs, 1 loop each)\n",
            "\n",
            "Количество вершин: 500, степень разреженности: 0.60, доля стартовых вершин: 50%\n",
            "msbfs_levels_anypair:\n",
            "11.7 s ± 267 ms per loop (mean ± std. dev. of 7 runs, 1 loop each)\n",
            "\n",
            "msbfs_parents_anyfirst:\n",
            "17 s ± 392 ms per loop (mean ± std. dev. of 7 runs, 1 loop each)\n",
            "\n",
            "Количество вершин: 500, степень разреженности: 0.80, доля стартовых вершин: 50%\n",
            "msbfs_levels_anypair:\n",
            "11.7 s ± 234 ms per loop (mean ± std. dev. of 7 runs, 1 loop each)\n",
            "\n",
            "msbfs_parents_anyfirst:\n",
            "16.7 s ± 394 ms per loop (mean ± std. dev. of 7 runs, 1 loop each)\n",
            "\n"
          ]
        }
      ]
    },
    {
      "cell_type": "code",
      "source": [
        "# Зависимость от числа стартовых вершин (при фиксированном числе вершин и фиксированной степени разреженности)\n",
        "for i in [20, 40, 60, 80]:\n",
        "    num_vert, fix_raref_deg = 500, 0.5  # фиксированные число вершин и значение степени разреженности\n",
        "    generated_graph = generate_graph(num_vert, int(fix_raref_deg * num_vert * (num_vert-1)))\n",
        "    num_vertices = generated_graph.shape[0]\n",
        "    num_edges = len(generated_graph.to_coo()[0])\n",
        "    rerefaction_deg = num_edges / (num_vertices * (num_vertices - 1))\n",
        "    print(f'Количество вершин: {num_vertices}, степень разреженности: {rerefaction_deg:.2f}, доля стартовых вершин: {i}%')\n",
        "    test_Levels_anypair(generated_graph, gen_vertices(num_vert, i))\n",
        "    test_Parents_anyfirst(generated_graph, gen_vertices(num_vert, i))\n"
      ],
      "metadata": {
        "colab": {
          "base_uri": "https://localhost:8080/"
        },
        "id": "gtAhth9qOgV_",
        "outputId": "a0c0fba0-6f1d-4f96-970d-f0d99cf72670"
      },
      "execution_count": 19,
      "outputs": [
        {
          "output_type": "stream",
          "name": "stdout",
          "text": [
            "Количество вершин: 500, степень разреженности: 0.50, доля стартовых вершин: 20%\n",
            "msbfs_levels_anypair:\n",
            "4.62 s ± 541 ms per loop (mean ± std. dev. of 7 runs, 1 loop each)\n",
            "\n",
            "msbfs_parents_anyfirst:\n",
            "6.66 s ± 524 ms per loop (mean ± std. dev. of 7 runs, 1 loop each)\n",
            "\n",
            "Количество вершин: 500, степень разреженности: 0.50, доля стартовых вершин: 40%\n",
            "msbfs_levels_anypair:\n",
            "9.41 s ± 538 ms per loop (mean ± std. dev. of 7 runs, 1 loop each)\n",
            "\n",
            "msbfs_parents_anyfirst:\n",
            "13.2 s ± 116 ms per loop (mean ± std. dev. of 7 runs, 1 loop each)\n",
            "\n",
            "Количество вершин: 500, степень разреженности: 0.50, доля стартовых вершин: 60%\n",
            "msbfs_levels_anypair:\n",
            "14.1 s ± 188 ms per loop (mean ± std. dev. of 7 runs, 1 loop each)\n",
            "\n",
            "msbfs_parents_anyfirst:\n",
            "20.2 s ± 513 ms per loop (mean ± std. dev. of 7 runs, 1 loop each)\n",
            "\n",
            "Количество вершин: 500, степень разреженности: 0.50, доля стартовых вершин: 80%\n",
            "msbfs_levels_anypair:\n",
            "18.8 s ± 499 ms per loop (mean ± std. dev. of 7 runs, 1 loop each)\n",
            "\n",
            "msbfs_parents_anyfirst:\n",
            "25.5 s ± 320 ms per loop (mean ± std. dev. of 7 runs, 1 loop each)\n",
            "\n"
          ]
        }
      ]
    },
    {
      "cell_type": "markdown",
      "source": [
        "## Выводы\n",
        "\n",
        "**Levels**: В случаях, когда графы малы по размеру, имеют очень высокую или очень низкую степень разреженности, или когда количество стартовых вершин невелико, алгоритм на исходном полукольце показывает лучшие результаты по времени выполнения. Однако, при увеличении плотности графа, его размеров и числа стартовых вершин (что ближе к реальным практическим задачам), использование полукольца any_pair приводит к снижению времени выполнения.\n",
        "\n",
        "\n",
        "**Parents**: По мере приближения характеристик графов к реальным задачам, алгоритм с использованием полукольца any_first демонстрирует сравнимую производительность с исходным полукольцом при малых значениях. Это связано с тем, что выбор первого элемента или поиск минимального элемента могут быть эффективными стратегиями в разных сценариях. При выборе первого подходящего элемента стратегия оказывается более эффективной при большом числе подходящих вариантов. Однако, при увеличении количества стартовых вершин, исходное полукольцо показывает значительно лучшую производительность, что, вероятно, связано с оптимизированной схемой выбора минимального элемента."
      ],
      "metadata": {
        "id": "KcGW9CdORSuZ"
      }
    },
    {
      "cell_type": "code",
      "source": [],
      "metadata": {
        "id": "sHIb_yHrRVO-"
      },
      "execution_count": null,
      "outputs": []
    }
  ]
}